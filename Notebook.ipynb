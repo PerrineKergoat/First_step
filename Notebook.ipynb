{
 "cells": [
  {
   "cell_type": "code",
   "execution_count": 1,
   "id": "1e49c017",
   "metadata": {
    "tags": []
   },
   "outputs": [],
   "source": [
    "import urllib.request as ur\n",
    "import json\n",
    "import math\n",
    "import pandas as pd\n",
    "import numpy as np \n",
    "import matplotlib.pyplot as plt\n",
    "import matplotlib.patches as mpatches\n",
    "import ete3\n",
    "import upsetplot"
   ]
  },
  {
   "cell_type": "code",
   "execution_count": 2,
   "id": "fcba4ce1",
   "metadata": {
    "tags": []
   },
   "outputs": [],
   "source": [
    "ncbi = ete3.NCBITaxa()\n",
    "#ncbi.update_taxonomy_database()\n"
   ]
  },
  {
   "cell_type": "markdown",
   "id": "a0469c06",
   "metadata": {
    "tags": []
   },
   "source": [
    "# Functions "
   ]
  },
  {
   "cell_type": "markdown",
   "id": "935f6268",
   "metadata": {
    "tags": []
   },
   "source": [
    "### Score parameters "
   ]
  },
  {
   "cell_type": "code",
   "execution_count": 3,
   "id": "d63261d6",
   "metadata": {
    "tags": []
   },
   "outputs": [],
   "source": [
    "def Parameters (name, default) :\n",
    "    while True :   \n",
    "        try:\n",
    "            y = input(f\"What coefficient for {name}? (by default: {default}) \")\n",
    "            if y ==  \"\" or y ==  \" \" :\n",
    "                y  =  default \n",
    "                print(f\"Valid value: {default}\")\n",
    "                break\n",
    "            if  0 <= float(y) <= 1 : \n",
    "                print(f\"Valid value: {y}\")\n",
    "                break\n",
    "            else :\n",
    "                print(\"Invalid value\") \n",
    "            continue\n",
    "        except :\n",
    "            print(\"Invalid value\") \n",
    "            continue\n",
    "    return(y)\n"
   ]
  },
  {
   "cell_type": "markdown",
   "id": "0a860743-3452-4fc3-ad60-12a4dc02412e",
   "metadata": {
    "tags": []
   },
   "source": [
    "### Score option"
   ]
  },
  {
   "cell_type": "code",
   "execution_count": 4,
   "id": "c16dd119-04a9-40fc-911d-16fc14b871c1",
   "metadata": {},
   "outputs": [],
   "source": [
    "def Score_type () :\n",
    "    while True :   \n",
    "        try:\n",
    "            y = input(f\"What type of score ? addition = completeness + consistency or multiplication = completeness + consistency (by default: addition) \")\n",
    "            if y ==  \"addition\" or y ==  \"addition \" or y ==  \"Addition\" or y ==  \"Addition \" or y ==  \"ADDITION\" or y ==  \"ADDITION \" or y ==  \"\" or y == \" \":\n",
    "                y  =  \"addition\" \n",
    "                print(f\"Valid option: {y}\")\n",
    "                break\n",
    "            if  y ==  \"multiplication\" or y ==  \"multiplication \" or y ==  \"Multiplication\" or y ==  \"Multiplication \" or y ==  \"MULTIPLICATION\" or y ==  \"MULTIPLICATION \": \n",
    "                print(f\"Valid option: {y}\")\n",
    "                break\n",
    "            else :\n",
    "                print(\"Invalid value\") \n",
    "            continue\n",
    "        except :\n",
    "            print(\"Invalid value\") \n",
    "            continue\n",
    "    return(y)\n"
   ]
  },
  {
   "cell_type": "markdown",
   "id": "8e099e92",
   "metadata": {
    "tags": []
   },
   "source": [
    "### Sigmoïde transformation "
   ]
  },
  {
   "cell_type": "code",
   "execution_count": 5,
   "id": "a8fbd956",
   "metadata": {
    "tags": []
   },
   "outputs": [],
   "source": [
    "def Sigmoide(x, a):\n",
    "    return (1/(1 + np.exp((-x + 0.5)*int(a)))) # f(x)=((1)/(1+ℯ^(10*(-x+0.5))))\n"
   ]
  },
  {
   "cell_type": "markdown",
   "id": "b476cc2b",
   "metadata": {
    "tags": []
   },
   "source": [
    "### Scoring the species"
   ]
  },
  {
   "cell_type": "code",
   "execution_count": 6,
   "id": "5a42ea52",
   "metadata": {
    "tags": []
   },
   "outputs": [],
   "source": [
    "def  Scoring (Data,  parameters, score_option):\n",
    "    \n",
    "    cons = float(parameters[0])   \n",
    "    part_cons = parameters[1]\n",
    "    fra_cons = parameters[2]\n",
    "    cont = parameters[3]\n",
    "    fra_inco = parameters[4]\n",
    "    part_inco = parameters[5]\n",
    "    \n",
    "    Data[\"prot_consistent_fit\"] = Data[\"prot_consistent\"] - Data[\"prot_consistent_partial\"] - Data[\"prot_consistent_fragment\"]\n",
    "    Data[\"prot_contamination_fit\"] = Data[\"prot_contamination\"] - Data[\"prot_contamination_partial\"] - Data[\"prot_contamination_fragment\"]\n",
    "    Data[\"prot_inconsistent_fit\"] = Data[\"prot_inconsistent\"] - Data[\"prot_inconsistent_partial\"] - Data[\"prot_inconsistent_fragment\"]\n",
    "\n",
    "    \n",
    "    score = list()\n",
    "    \n",
    "    for index, row in Data.iterrows(): \n",
    "        single = row[\"hog_single\"]\n",
    "        duplicated = row[\"hog_duplicated\"]\n",
    "        consistent = row[\"prot_consistent\"]\n",
    "        consistent_fit = row[\"prot_consistent_fit\"]\n",
    "        partial_cons = row[\"prot_consistent_partial\"]\n",
    "        fragmented_cons = row[\"prot_consistent_fragment\"]\n",
    "        contamination = row[\"prot_contamination\"]\n",
    "        frangmented_incons = row[\"prot_inconsistent_fragment\"]\n",
    "        partial_incons = row[\"prot_inconsistent_partial\"]\n",
    "        \n",
    "        completeness = single + duplicated \n",
    "        \n",
    "        consistency_plus = consistent_fit*cons + partial_cons*part_cons + fragmented_cons*fra_cons # ajouter signle et duplicated et pas besoin de faire - missing puisque deduit \n",
    "        consistency_minus = contamination*cont + frangmented_incons*fra_inco + partial_incons*part_inco \n",
    "        consistency = consistency_plus - consistency_minus\n",
    "        \n",
    "        if score_option == \"addition\":\n",
    "            score_tot = (completeness + consistency)/200\n",
    "        elif score_option == \"multiplication\":\n",
    "            score_tot = (completeness * consistency)/10000\n",
    "        \n",
    "        score_sigmo = Sigmoide(score_tot, sig_coef) # call  the sigmoïde coefficient given by the user \n",
    "        \n",
    "        score.append(score_sigmo)\n",
    "    \n",
    "    Data[\"Score\"] = score\n",
    "    \n",
    "    return (Data)\n"
   ]
  },
  {
   "cell_type": "markdown",
   "id": "48229084-2ec4-4731-bcfe-dbeb82fdbed1",
   "metadata": {
    "tags": []
   },
   "source": [
    "### Transform a list column into a dataframe column"
   ]
  },
  {
   "cell_type": "code",
   "execution_count": 7,
   "id": "73300eb3",
   "metadata": {
    "tags": []
   },
   "outputs": [],
   "source": [
    "def DF_colomn (z):\n",
    "    z.tolist()\n",
    "    colomn = pd.DataFrame(z)\n",
    "    colomn[\"index\"] = range(0, len(colomn), 1)\n",
    "    colomn = colomn.set_index(\"index\")\n",
    "    return(colomn)"
   ]
  },
  {
   "cell_type": "markdown",
   "id": "b13f40e7-0751-4b2e-a7db-9bc4771d74f4",
   "metadata": {
    "tags": []
   },
   "source": [
    "### Transform a dataframe column into a list"
   ]
  },
  {
   "cell_type": "code",
   "execution_count": 8,
   "id": "e0766188",
   "metadata": {
    "tags": []
   },
   "outputs": [],
   "source": [
    "def Col_in_list (colname, dtframe): \n",
    "    n_list = np.unique(dtframe[colname])\n",
    "    n_list = list(n_list)\n",
    "    return(n_list)"
   ]
  },
  {
   "cell_type": "markdown",
   "id": "368fdceb-3fe1-408e-9767-376b1ae50501",
   "metadata": {
    "jp-MarkdownHeadingCollapsed": true,
    "tags": []
   },
   "source": [
    "### Add the species names in the column \"sc_name\""
   ]
  },
  {
   "cell_type": "code",
   "execution_count": 9,
   "id": "94957f02-e6a5-430c-9b6f-abdf60266026",
   "metadata": {},
   "outputs": [],
   "source": [
    "def Add_names (Data):\n",
    "    dic_names = ncbi.get_taxid_translator(Data[\"taxon_id\"])\n",
    "    names = list()\n",
    "\n",
    "    for index, row in Data.iterrows(): \n",
    "        t_id = row[\"taxon_id\"]\n",
    "        names.append(dic_names.get(t_id))\n",
    "        \n",
    "    Data[\"sc_name\"] = names\n",
    "    return()"
   ]
  },
  {
   "cell_type": "markdown",
   "id": "ab1a7ef2-54b1-458f-8fe2-246b4cd949d0",
   "metadata": {
    "jp-MarkdownHeadingCollapsed": true,
    "tags": []
   },
   "source": [
    "### Find the best score of each species in a database"
   ]
  },
  {
   "cell_type": "code",
   "execution_count": 10,
   "id": "85a1ee22-87f3-49e3-aec7-90fd7ae74133",
   "metadata": {
    "tags": []
   },
   "outputs": [],
   "source": [
    "def Best_scores_per_dtbase (dtbase, dtframe):\n",
    "    \n",
    "    dtframe.sort_values('Score',ascending=False, inplace=True) \n",
    "    \n",
    "    l_dtbase_tax = list()\n",
    "    l_dtbase_scores = list()\n",
    "    l_tax_dtbase = list()\n",
    "    \n",
    "    keep_data1 = pd.DataFrame(columns = [dtframe.columns])\n",
    "    \n",
    "    for index, row in dtframe.iterrows():    # list taxon of the database and keep the score associated\n",
    "        if row[\"source_db\"] == dtbase:\n",
    "            l_dtbase_tax.append(row[\"taxon_id\"])\n",
    "            l_dtbase_scores.append(row[\"Score\"])\n",
    "            keep_data1.loc[index] = row.tolist()\n",
    "    \n",
    "    best_scores = pd.DataFrame(columns = [dtframe.columns])\n",
    "    \n",
    "    for index, row in keep_data1.iterrows():     # list only the best \n",
    "        if row[\"taxon_id\"] not in l_tax_dtbase:\n",
    "            best_scores.loc[index] = row.tolist()\n",
    "            l_tax_dtbase.append(row[\"taxon_id\"])\n",
    "    \n",
    "    return(best_scores)\n"
   ]
  },
  {
   "cell_type": "markdown",
   "id": "6a9b4e86-a493-43e8-8b00-56ea371fafe5",
   "metadata": {
    "jp-MarkdownHeadingCollapsed": true,
    "tags": []
   },
   "source": [
    "### Find the best database for each commun taxon"
   ]
  },
  {
   "cell_type": "code",
   "execution_count": 11,
   "id": "148d9464-ec04-4a9b-a2bd-a023055e2b5a",
   "metadata": {
    "tags": []
   },
   "outputs": [],
   "source": [
    "def Best_dtbase_per_taxon (b_s_dtbase_1, b_s_dtbase_2, b_s_dtbase_3, l_dtbase, result):\n",
    "    \n",
    "    l_tax_3dtbase = list()\n",
    "    dtbase_tax = pd.DataFrame(columns = [result.columns])\n",
    "\n",
    "                        #keep_data1.loc[index] = row.tolist()\n",
    "    \n",
    "    for index, row in b_s_dtbase_1.iterrows():     # find the commun taxons\n",
    "        if int(row[\"taxon_id\"]) in Col_in_list(\"taxon_id\", b_s_dtbase_2) and int(row[\"taxon_id\"]) in Col_in_list(\"taxon_id\", b_s_dtbase_3): \n",
    "            l_tax_3dtbase.append(int(row[\"taxon_id\"]))\n",
    "            dtbase_tax.loc[index] = row.tolist()\n",
    "\n",
    "    l_tax = [int(item) for item in l_tax_3dtbase]\n",
    "    l_tax_1 = l_tax.copy()\n",
    "    l_tax_2 = l_tax.copy()\n",
    "    l_tax_3 = l_tax.copy()\n",
    "     \n",
    "    common_tax_1 = pd.DataFrame(columns = result.columns)\n",
    "    common_tax_2 = pd.DataFrame(columns = result.columns)\n",
    "    common_tax_3 = pd.DataFrame(columns = result.columns)\n",
    "    \n",
    "    for index, row in dtbase_tax.iterrows(): # select the commun taxon in the first dtbase\n",
    "        if row[\"taxon_id\"] in l_tax_1:\n",
    "            common_tax_1.loc[index] = row.tolist()\n",
    "            l_tax_1.remove(row[\"taxon_id\"])\n",
    "\n",
    "    common_tax_1.sort_values(by = [\"taxon_id\"], inplace = True)\n",
    "    common_tax_1.reset_index(drop = True, inplace = True)\n",
    "        \n",
    "    for index, row in b_s_dtbase_2.iterrows(): # select the commun taxon in the second dtbase\n",
    "        if row[\"taxon_id\"] in l_tax_2:\n",
    "            common_tax_2.loc[index] = row.tolist()\n",
    "            l_tax_2.remove(row[\"taxon_id\"])\n",
    "\n",
    "    common_tax_2.sort_values(by = [\"taxon_id\"], inplace = True)            \n",
    "    common_tax_2.reset_index(drop = True, inplace = True)\n",
    "    \n",
    "    for index, row in b_s_dtbase_3.iterrows(): # select the commun taxon in the third dtbase\n",
    "        if row[\"taxon_id\"] in l_tax_3:\n",
    "            common_tax_3.loc[index] = row.tolist()\n",
    "            l_tax_3.remove(row[\"taxon_id\"])\n",
    "\n",
    "    common_tax_3.sort_values(by = [\"taxon_id\"], inplace = True)\n",
    "    common_tax_3.reset_index(drop = True, inplace = True)\n",
    "    \n",
    "    best_dt_tax = pd.DataFrame(index = l_tax, columns = l_dtbase)\n",
    "    best_dt_tax = pd.concat([common_tax_1, common_tax_2], ignore_index=True)\n",
    "    best_dt_tax = pd.concat([best_dt_tax, common_tax_3], ignore_index=True)\n",
    "    best_dt_tax.sort_values(by = [\"taxon_id\", \"Score\"], inplace = True, ascending = [True, False]) \n",
    "    \n",
    "    iter_dt_tax = best_dt_tax.copy()\n",
    "    l_tax_4 = l_tax.copy()\n",
    "    \n",
    "    for index, row in iter_dt_tax.iterrows():\n",
    "        if row[\"taxon_id\"] in l_tax_4:\n",
    "            l_tax_4.remove(row[\"taxon_id\"])\n",
    "        else:\n",
    "            best_dt_tax.drop([index], axis=0, inplace=True)\n",
    "    \n",
    "    best_dt_tax.sort_values(by = [\"Score\"], inplace = True, ascending = False)\n",
    "    \n",
    "    tax_b_s = pd.DataFrame(columns =  [l_dtbase[2], l_dtbase[0], l_dtbase[1]])\n",
    "    tax_b_s[l_dtbase[2]] = common_tax_1[\"Score\"]\n",
    "    tax_b_s[l_dtbase[0]] = common_tax_2[\"Score\"]\n",
    "    tax_b_s[l_dtbase[1]] = common_tax_3[\"Score\"]\n",
    "    \n",
    "    max_score = tax_b_s.max(axis = 1)\n",
    "    max_score = [float(item) for item in max_score]\n",
    "    \n",
    "    max_dtbase = list()\n",
    "    \n",
    "    for index, row in tax_b_s.iterrows(): \n",
    "        if str(max_score[index]) == str(tax_b_s[l_dtbase[2]][index]):\n",
    "            max_dtbase.append(l_dtbase[2])\n",
    "        elif max_score[index] == tax_b_s[l_dtbase[0]][index]:\n",
    "            max_dtbase.append(l_dtbase[0])\n",
    "        elif max_score[index] == tax_b_s[l_dtbase[1]][index]:\n",
    "            max_dtbase.append(l_dtbase[1])\n",
    "    \n",
    "    tax_b_s[\"max_score\"] = max_score\n",
    "    tax_b_s[\"best_dtbase\"] = max_dtbase\n",
    "    tax_b_s[\"taxon_id\"] = common_tax_1[\"taxon_id\"]\n",
    "    \n",
    "    tax_b_s['diff_UP_Ens'] = tax_b_s['UniProt Reference Proteomes'] - tax_b_s['Ensembl']\n",
    "    tax_b_s['diff_UP_RS'] = tax_b_s['UniProt Reference Proteomes'] - tax_b_s['RefSeq']\n",
    "    tax_b_s['diff_Ens_RS'] = tax_b_s['Ensembl'] - tax_b_s['RefSeq']\n",
    "    \n",
    "    return (best_dt_tax, tax_b_s) "
   ]
  },
  {
   "cell_type": "code",
   "execution_count": null,
   "id": "b89a4acb-b679-4a35-9983-80b6e3950ca0",
   "metadata": {},
   "outputs": [],
   "source": []
  },
  {
   "cell_type": "code",
   "execution_count": null,
   "id": "54d94979-5a6c-4502-b1c0-0f317caa3ed2",
   "metadata": {},
   "outputs": [],
   "source": []
  },
  {
   "cell_type": "code",
   "execution_count": null,
   "id": "0ac3b731-bf91-4b99-baf8-2f065197c8b0",
   "metadata": {},
   "outputs": [],
   "source": []
  },
  {
   "cell_type": "markdown",
   "id": "6a9b19af",
   "metadata": {
    "tags": []
   },
   "source": [
    "# \"User interface\""
   ]
  },
  {
   "cell_type": "markdown",
   "id": "81d2d652",
   "metadata": {
    "tags": []
   },
   "source": [
    "### Taxon id to study (and verification)"
   ]
  },
  {
   "cell_type": "code",
   "execution_count": 12,
   "id": "2840efd6",
   "metadata": {
    "jupyter": {
     "source_hidden": true
    },
    "tags": []
   },
   "outputs": [
    {
     "name": "stdin",
     "output_type": "stream",
     "text": [
      "What is the NCBI id of the taxa to analyze?  314147\n"
     ]
    },
    {
     "name": "stdout",
     "output_type": "stream",
     "text": [
      "Valid taxon id\n"
     ]
    }
   ],
   "source": [
    "# Work with 1963758 and 1437183\n",
    "\n",
    "while True :   \n",
    "    try:\n",
    "        tax_id = input(\"What is the NCBI id of the taxa to analyze? \")\n",
    "        if len(ncbi.get_taxid_translator([tax_id])) != 0: \n",
    "            print(\"Valid taxon id\")\n",
    "            break\n",
    "        else :\n",
    "            print(\"Invalid taxon id\") \n",
    "        continue\n",
    "    except :\n",
    "        print(\"Invalid taxon id\") \n",
    "        continue\n"
   ]
  },
  {
   "cell_type": "markdown",
   "id": "cd5da418",
   "metadata": {
    "tags": []
   },
   "source": [
    "### Sigmoïde coefficient to score more or less thigher the species "
   ]
  },
  {
   "cell_type": "code",
   "execution_count": 13,
   "id": "87d690dd",
   "metadata": {
    "jupyter": {
     "source_hidden": true
    },
    "tags": []
   },
   "outputs": [
    {
     "name": "stdin",
     "output_type": "stream",
     "text": [
      "What coefficient for the sigmoïde transformation of scores? (8 or 10, 10 tighter than 8)  \n"
     ]
    },
    {
     "name": "stdout",
     "output_type": "stream",
     "text": [
      "By default coeficient: 4\n"
     ]
    }
   ],
   "source": [
    "# Either 8 or 10\n",
    "\n",
    "while True :   \n",
    "    try:\n",
    "        sig_coef = input(\"What coefficient for the sigmoïde transformation of scores? (8 or 10, 10 tighter than 8) \")\n",
    "        if sig_coef ==  \"\" or sig_coef ==  \" \" :\n",
    "            sig_coef  =  4 \n",
    "            print(f\"By default coeficient: {sig_coef}\")\n",
    "            break\n",
    "        if  int(sig_coef) == 4 or int(sig_coef) == 8 or int(sig_coef) == 10 : # voir pour adoucir avec 6 ou 4 \n",
    "            print(\"Valid value\")\n",
    "            break\n",
    "        else :\n",
    "            print(\"Invalid value\") \n",
    "        continue\n",
    "    except :\n",
    "        print(\"Invalid value\") \n",
    "        continue\n",
    "    "
   ]
  },
  {
   "cell_type": "code",
   "execution_count": null,
   "id": "b2afdb86-8df5-4922-bc36-385e8c8bc0d9",
   "metadata": {},
   "outputs": [],
   "source": []
  },
  {
   "cell_type": "markdown",
   "id": "9e4dd6a1",
   "metadata": {
    "tags": []
   },
   "source": [
    "### Parameters of score "
   ]
  },
  {
   "cell_type": "code",
   "execution_count": 14,
   "id": "0f6e14d0",
   "metadata": {
    "jupyter": {
     "source_hidden": true
    },
    "tags": []
   },
   "outputs": [
    {
     "name": "stdin",
     "output_type": "stream",
     "text": [
      "What type of score ? addition = completeness + consistency or multiplication = completeness + consistency (by default: addition)  \n"
     ]
    },
    {
     "name": "stdout",
     "output_type": "stream",
     "text": [
      "Valid option: addition\n"
     ]
    },
    {
     "name": "stdin",
     "output_type": "stream",
     "text": [
      "What coefficient for consistent proteome? (by default: 1)  \n"
     ]
    },
    {
     "name": "stdout",
     "output_type": "stream",
     "text": [
      "Valid value: 1\n"
     ]
    },
    {
     "name": "stdin",
     "output_type": "stream",
     "text": [
      "What coefficient for partially consistent proteome? (by default: 0.5)  \n"
     ]
    },
    {
     "name": "stdout",
     "output_type": "stream",
     "text": [
      "Valid value: 0.5\n"
     ]
    },
    {
     "name": "stdin",
     "output_type": "stream",
     "text": [
      "What coefficient for fragmented consistent proteome? (by default: 0.5)  \n"
     ]
    },
    {
     "name": "stdout",
     "output_type": "stream",
     "text": [
      "Valid value: 0.5\n"
     ]
    },
    {
     "name": "stdin",
     "output_type": "stream",
     "text": [
      "What coefficient for contamination? (by default: 0.8)  \n"
     ]
    },
    {
     "name": "stdout",
     "output_type": "stream",
     "text": [
      "Valid value: 0.8\n"
     ]
    },
    {
     "name": "stdin",
     "output_type": "stream",
     "text": [
      "What coefficient for fragmented and incomplete proteome? (by default: 0.5)  \n"
     ]
    },
    {
     "name": "stdout",
     "output_type": "stream",
     "text": [
      "Valid value: 0.5\n"
     ]
    },
    {
     "name": "stdin",
     "output_type": "stream",
     "text": [
      "What coefficient for partial and incomplete proteome? (by default: 0.5)  \n"
     ]
    },
    {
     "name": "stdout",
     "output_type": "stream",
     "text": [
      "Valid value: 0.5\n"
     ]
    }
   ],
   "source": [
    "# By default : (1, 0.5, 0.5, 0.8, 0.5, 0.5)\n",
    "\n",
    "score_option = Score_type()\n",
    "cons = Parameters(\"consistent proteome\", 1)\n",
    "part_cons = Parameters(\"partially consistent proteome\", 0.5)\n",
    "fra_cons = Parameters(\"fragmented consistent proteome\", 0.5)\n",
    "cont = Parameters(\"contamination\", 0.8)\n",
    "fra_inco = Parameters(\"fragmented and incomplete proteome\", 0.5)\n",
    "part_inco = Parameters(\"partial and incomplete proteome\", 0.5)\n",
    "parameters = (cons, part_cons, fra_cons, cont, fra_inco, part_inco)\n",
    "parameters = [float(x) for x in parameters]"
   ]
  },
  {
   "cell_type": "code",
   "execution_count": null,
   "id": "8f7379e4-3729-4f95-9522-f5184e150181",
   "metadata": {},
   "outputs": [],
   "source": []
  },
  {
   "cell_type": "markdown",
   "id": "a0ec5e8e",
   "metadata": {
    "tags": []
   },
   "source": [
    "# Main - part 1 : scoring the species"
   ]
  },
  {
   "cell_type": "code",
   "execution_count": 41,
   "id": "622e3099",
   "metadata": {
    "scrolled": true,
    "tags": []
   },
   "outputs": [
    {
     "data": {
      "text/html": [
       "<div>\n",
       "<style scoped>\n",
       "    .dataframe tbody tr th:only-of-type {\n",
       "        vertical-align: middle;\n",
       "    }\n",
       "\n",
       "    .dataframe tbody tr th {\n",
       "        vertical-align: top;\n",
       "    }\n",
       "\n",
       "    .dataframe thead th {\n",
       "        text-align: right;\n",
       "    }\n",
       "</style>\n",
       "<table border=\"1\" class=\"dataframe\">\n",
       "  <thead>\n",
       "    <tr style=\"text-align: right;\">\n",
       "      <th></th>\n",
       "      <th>data_hash</th>\n",
       "      <th>contaminants</th>\n",
       "      <th>taxon_id</th>\n",
       "      <th>source_url</th>\n",
       "      <th>source_db</th>\n",
       "      <th>source_rel</th>\n",
       "      <th>used_clade</th>\n",
       "      <th>conserved_hogs</th>\n",
       "      <th>hog_single</th>\n",
       "      <th>hog_single_abs</th>\n",
       "      <th>...</th>\n",
       "      <th>prot_contamination_partial_abs</th>\n",
       "      <th>prot_contamination_fragment</th>\n",
       "      <th>prot_contamination_fragment_abs</th>\n",
       "      <th>prot_not_mapped</th>\n",
       "      <th>prot_not_mapped_abs</th>\n",
       "      <th>prot_consistent_fit</th>\n",
       "      <th>prot_contamination_fit</th>\n",
       "      <th>prot_inconsistent_fit</th>\n",
       "      <th>Score</th>\n",
       "      <th>sc_name</th>\n",
       "    </tr>\n",
       "  </thead>\n",
       "  <tbody>\n",
       "    <tr>\n",
       "      <th>2</th>\n",
       "      <td>a935e1a096c90b7e2213fa44f9a39f64</td>\n",
       "      <td>[]</td>\n",
       "      <td>10090</td>\n",
       "      <td>https://www.uniprot.org/proteomes/UP000000589</td>\n",
       "      <td>UniProt Reference Proteomes</td>\n",
       "      <td>2022-Feb</td>\n",
       "      <td>Myomorpha</td>\n",
       "      <td>15848</td>\n",
       "      <td>97.02</td>\n",
       "      <td>15375</td>\n",
       "      <td>...</td>\n",
       "      <td>0</td>\n",
       "      <td>0.0</td>\n",
       "      <td>0</td>\n",
       "      <td>0.10</td>\n",
       "      <td>21</td>\n",
       "      <td>95.34</td>\n",
       "      <td>0.0</td>\n",
       "      <td>0.26</td>\n",
       "      <td>0.871960</td>\n",
       "      <td>Mus musculus</td>\n",
       "    </tr>\n",
       "    <tr>\n",
       "      <th>5</th>\n",
       "      <td>7bb9f9ee9c140bfe8042280797760aac</td>\n",
       "      <td>[]</td>\n",
       "      <td>10141</td>\n",
       "      <td>https://www.uniprot.org/proteomes/UP000005447</td>\n",
       "      <td>UniProt Reference Proteomes</td>\n",
       "      <td>2022-Feb</td>\n",
       "      <td>Hystricomorpha</td>\n",
       "      <td>13249</td>\n",
       "      <td>96.01</td>\n",
       "      <td>12721</td>\n",
       "      <td>...</td>\n",
       "      <td>0</td>\n",
       "      <td>0.0</td>\n",
       "      <td>0</td>\n",
       "      <td>0.01</td>\n",
       "      <td>1</td>\n",
       "      <td>95.13</td>\n",
       "      <td>0.0</td>\n",
       "      <td>0.56</td>\n",
       "      <td>0.871143</td>\n",
       "      <td>Cavia porcellus</td>\n",
       "    </tr>\n",
       "    <tr>\n",
       "      <th>4</th>\n",
       "      <td>ca36a5f4365aed856e692e3261bab117</td>\n",
       "      <td>[]</td>\n",
       "      <td>10116</td>\n",
       "      <td>https://www.uniprot.org/proteomes/UP000002494</td>\n",
       "      <td>UniProt Reference Proteomes</td>\n",
       "      <td>2022-Feb</td>\n",
       "      <td>Myomorpha</td>\n",
       "      <td>15848</td>\n",
       "      <td>94.73</td>\n",
       "      <td>15013</td>\n",
       "      <td>...</td>\n",
       "      <td>0</td>\n",
       "      <td>0.0</td>\n",
       "      <td>0</td>\n",
       "      <td>0.11</td>\n",
       "      <td>24</td>\n",
       "      <td>95.17</td>\n",
       "      <td>0.0</td>\n",
       "      <td>0.37</td>\n",
       "      <td>0.868926</td>\n",
       "      <td>Rattus norvegicus</td>\n",
       "    </tr>\n",
       "    <tr>\n",
       "      <th>11</th>\n",
       "      <td>98af8210b5b868e9ab91808b46bcd33e</td>\n",
       "      <td>[]</td>\n",
       "      <td>43179</td>\n",
       "      <td>https://www.uniprot.org/proteomes/UP000005215</td>\n",
       "      <td>UniProt Reference Proteomes</td>\n",
       "      <td>2022-Feb</td>\n",
       "      <td>Rodentia</td>\n",
       "      <td>12911</td>\n",
       "      <td>95.02</td>\n",
       "      <td>12268</td>\n",
       "      <td>...</td>\n",
       "      <td>0</td>\n",
       "      <td>0.0</td>\n",
       "      <td>0</td>\n",
       "      <td>0.00</td>\n",
       "      <td>0</td>\n",
       "      <td>94.24</td>\n",
       "      <td>0.0</td>\n",
       "      <td>0.96</td>\n",
       "      <td>0.867243</td>\n",
       "      <td>Ictidomys tridecemlineatus</td>\n",
       "    </tr>\n",
       "    <tr>\n",
       "      <th>8</th>\n",
       "      <td>2999c0f6630a6b45f06005a4a1ba066a</td>\n",
       "      <td>[]</td>\n",
       "      <td>230844</td>\n",
       "      <td>https://www.uniprot.org/proteomes/UP000504601</td>\n",
       "      <td>UniProt Reference Proteomes</td>\n",
       "      <td>2022-Feb</td>\n",
       "      <td>Myomorpha</td>\n",
       "      <td>15848</td>\n",
       "      <td>93.56</td>\n",
       "      <td>14827</td>\n",
       "      <td>...</td>\n",
       "      <td>0</td>\n",
       "      <td>0.0</td>\n",
       "      <td>0</td>\n",
       "      <td>0.09</td>\n",
       "      <td>20</td>\n",
       "      <td>89.17</td>\n",
       "      <td>0.0</td>\n",
       "      <td>1.47</td>\n",
       "      <td>0.861129</td>\n",
       "      <td>Peromyscus maniculatus bairdii</td>\n",
       "    </tr>\n",
       "    <tr>\n",
       "      <th>0</th>\n",
       "      <td>6cd244a1558330f783f30187265c2ce6</td>\n",
       "      <td>[]</td>\n",
       "      <td>10160</td>\n",
       "      <td>https://www.uniprot.org/proteomes/UP000515203</td>\n",
       "      <td>UniProt Reference Proteomes</td>\n",
       "      <td>2022-Feb</td>\n",
       "      <td>Hystricomorpha</td>\n",
       "      <td>13249</td>\n",
       "      <td>94.11</td>\n",
       "      <td>12468</td>\n",
       "      <td>...</td>\n",
       "      <td>0</td>\n",
       "      <td>0.0</td>\n",
       "      <td>0</td>\n",
       "      <td>0.05</td>\n",
       "      <td>11</td>\n",
       "      <td>89.94</td>\n",
       "      <td>0.0</td>\n",
       "      <td>2.03</td>\n",
       "      <td>0.861069</td>\n",
       "      <td>Octodon degus</td>\n",
       "    </tr>\n",
       "    <tr>\n",
       "      <th>6</th>\n",
       "      <td>ccba194db1ff17fe87347b67f011a03f</td>\n",
       "      <td>[]</td>\n",
       "      <td>10036</td>\n",
       "      <td>https://www.uniprot.org/proteomes/UP000189706</td>\n",
       "      <td>UniProt Reference Proteomes</td>\n",
       "      <td>2022-Feb</td>\n",
       "      <td>Myomorpha</td>\n",
       "      <td>15848</td>\n",
       "      <td>90.24</td>\n",
       "      <td>14302</td>\n",
       "      <td>...</td>\n",
       "      <td>0</td>\n",
       "      <td>0.0</td>\n",
       "      <td>0</td>\n",
       "      <td>0.08</td>\n",
       "      <td>16</td>\n",
       "      <td>88.33</td>\n",
       "      <td>0.0</td>\n",
       "      <td>1.26</td>\n",
       "      <td>0.857576</td>\n",
       "      <td>Mesocricetus auratus</td>\n",
       "    </tr>\n",
       "    <tr>\n",
       "      <th>10</th>\n",
       "      <td>5d8ccc7815d9caee0f1282e58c0e32bb</td>\n",
       "      <td>[]</td>\n",
       "      <td>10020</td>\n",
       "      <td>https://www.uniprot.org/proteomes/UP000081671</td>\n",
       "      <td>UniProt Reference Proteomes</td>\n",
       "      <td>2022-Feb</td>\n",
       "      <td>Rodentia</td>\n",
       "      <td>12911</td>\n",
       "      <td>92.67</td>\n",
       "      <td>11964</td>\n",
       "      <td>...</td>\n",
       "      <td>0</td>\n",
       "      <td>0.0</td>\n",
       "      <td>0</td>\n",
       "      <td>0.08</td>\n",
       "      <td>16</td>\n",
       "      <td>87.43</td>\n",
       "      <td>0.0</td>\n",
       "      <td>1.67</td>\n",
       "      <td>0.855128</td>\n",
       "      <td>Dipodomys ordii</td>\n",
       "    </tr>\n",
       "    <tr>\n",
       "      <th>1</th>\n",
       "      <td>6d84f0ff2b2ada2275e44f3eed384237</td>\n",
       "      <td>[]</td>\n",
       "      <td>10181</td>\n",
       "      <td>https://www.uniprot.org/proteomes/UP000006813</td>\n",
       "      <td>UniProt Reference Proteomes</td>\n",
       "      <td>2022-Feb</td>\n",
       "      <td>Hystricomorpha</td>\n",
       "      <td>13249</td>\n",
       "      <td>86.41</td>\n",
       "      <td>11448</td>\n",
       "      <td>...</td>\n",
       "      <td>0</td>\n",
       "      <td>0.0</td>\n",
       "      <td>0</td>\n",
       "      <td>0.07</td>\n",
       "      <td>14</td>\n",
       "      <td>79.52</td>\n",
       "      <td>0.0</td>\n",
       "      <td>1.67</td>\n",
       "      <td>0.831445</td>\n",
       "      <td>Heterocephalus glaber</td>\n",
       "    </tr>\n",
       "    <tr>\n",
       "      <th>7</th>\n",
       "      <td>a73491ab349cb3e51a4c1b676bb95d49</td>\n",
       "      <td>[]</td>\n",
       "      <td>9986</td>\n",
       "      <td>https://www.uniprot.org/proteomes/UP000001811</td>\n",
       "      <td>UniProt Reference Proteomes</td>\n",
       "      <td>2022-Feb</td>\n",
       "      <td>Glires</td>\n",
       "      <td>13449</td>\n",
       "      <td>84.19</td>\n",
       "      <td>11323</td>\n",
       "      <td>...</td>\n",
       "      <td>0</td>\n",
       "      <td>0.0</td>\n",
       "      <td>0</td>\n",
       "      <td>0.08</td>\n",
       "      <td>16</td>\n",
       "      <td>81.35</td>\n",
       "      <td>0.0</td>\n",
       "      <td>1.25</td>\n",
       "      <td>0.830335</td>\n",
       "      <td>Oryctolagus cuniculus</td>\n",
       "    </tr>\n",
       "    <tr>\n",
       "      <th>12</th>\n",
       "      <td>5e1e8ed086ea4811a51e10953804e755</td>\n",
       "      <td>[]</td>\n",
       "      <td>9995</td>\n",
       "      <td>https://www.uniprot.org/proteomes/UP000335636</td>\n",
       "      <td>UniProt Reference Proteomes</td>\n",
       "      <td>2022-Feb</td>\n",
       "      <td>Rodentia</td>\n",
       "      <td>12911</td>\n",
       "      <td>76.21</td>\n",
       "      <td>9840</td>\n",
       "      <td>...</td>\n",
       "      <td>0</td>\n",
       "      <td>0.0</td>\n",
       "      <td>0</td>\n",
       "      <td>0.23</td>\n",
       "      <td>71</td>\n",
       "      <td>57.58</td>\n",
       "      <td>0.0</td>\n",
       "      <td>1.97</td>\n",
       "      <td>0.787178</td>\n",
       "      <td>Marmota monax</td>\n",
       "    </tr>\n",
       "    <tr>\n",
       "      <th>13</th>\n",
       "      <td>b1200121bb693634d79aa7a561539222</td>\n",
       "      <td>[]</td>\n",
       "      <td>885580</td>\n",
       "      <td>https://www.uniprot.org/proteomes/UP000028990</td>\n",
       "      <td>UniProt Reference Proteomes</td>\n",
       "      <td>2022-Feb</td>\n",
       "      <td>Hystricomorpha</td>\n",
       "      <td>13249</td>\n",
       "      <td>81.47</td>\n",
       "      <td>10794</td>\n",
       "      <td>...</td>\n",
       "      <td>0</td>\n",
       "      <td>0.0</td>\n",
       "      <td>0</td>\n",
       "      <td>0.36</td>\n",
       "      <td>73</td>\n",
       "      <td>69.36</td>\n",
       "      <td>0.0</td>\n",
       "      <td>1.37</td>\n",
       "      <td>0.784435</td>\n",
       "      <td>Fukomys damarensis</td>\n",
       "    </tr>\n",
       "    <tr>\n",
       "      <th>3</th>\n",
       "      <td>87676426da7f98f9870e0a405987308a</td>\n",
       "      <td>[]</td>\n",
       "      <td>56216</td>\n",
       "      <td>https://www.uniprot.org/proteomes/UP000092124</td>\n",
       "      <td>UniProt Reference Proteomes</td>\n",
       "      <td>2022-Feb</td>\n",
       "      <td>Myomorpha</td>\n",
       "      <td>15848</td>\n",
       "      <td>78.71</td>\n",
       "      <td>12474</td>\n",
       "      <td>...</td>\n",
       "      <td>0</td>\n",
       "      <td>0.0</td>\n",
       "      <td>0</td>\n",
       "      <td>0.57</td>\n",
       "      <td>138</td>\n",
       "      <td>57.03</td>\n",
       "      <td>0.0</td>\n",
       "      <td>1.48</td>\n",
       "      <td>0.782228</td>\n",
       "      <td>Neotoma lepida</td>\n",
       "    </tr>\n",
       "    <tr>\n",
       "      <th>9</th>\n",
       "      <td>309305532c68e1d1009f2990f3982828</td>\n",
       "      <td>[]</td>\n",
       "      <td>10029</td>\n",
       "      <td>https://www.uniprot.org/proteomes/UP000001075</td>\n",
       "      <td>UniProt Reference Proteomes</td>\n",
       "      <td>2022-Feb</td>\n",
       "      <td>Myomorpha</td>\n",
       "      <td>15848</td>\n",
       "      <td>76.68</td>\n",
       "      <td>12152</td>\n",
       "      <td>...</td>\n",
       "      <td>0</td>\n",
       "      <td>0.0</td>\n",
       "      <td>0</td>\n",
       "      <td>0.40</td>\n",
       "      <td>95</td>\n",
       "      <td>57.79</td>\n",
       "      <td>0.0</td>\n",
       "      <td>1.02</td>\n",
       "      <td>0.740583</td>\n",
       "      <td>Cricetulus griseus</td>\n",
       "    </tr>\n",
       "  </tbody>\n",
       "</table>\n",
       "<p>14 rows × 44 columns</p>\n",
       "</div>"
      ],
      "text/plain": [
       "                           data_hash contaminants  taxon_id  \\\n",
       "2   a935e1a096c90b7e2213fa44f9a39f64           []     10090   \n",
       "5   7bb9f9ee9c140bfe8042280797760aac           []     10141   \n",
       "4   ca36a5f4365aed856e692e3261bab117           []     10116   \n",
       "11  98af8210b5b868e9ab91808b46bcd33e           []     43179   \n",
       "8   2999c0f6630a6b45f06005a4a1ba066a           []    230844   \n",
       "0   6cd244a1558330f783f30187265c2ce6           []     10160   \n",
       "6   ccba194db1ff17fe87347b67f011a03f           []     10036   \n",
       "10  5d8ccc7815d9caee0f1282e58c0e32bb           []     10020   \n",
       "1   6d84f0ff2b2ada2275e44f3eed384237           []     10181   \n",
       "7   a73491ab349cb3e51a4c1b676bb95d49           []      9986   \n",
       "12  5e1e8ed086ea4811a51e10953804e755           []      9995   \n",
       "13  b1200121bb693634d79aa7a561539222           []    885580   \n",
       "3   87676426da7f98f9870e0a405987308a           []     56216   \n",
       "9   309305532c68e1d1009f2990f3982828           []     10029   \n",
       "\n",
       "                                       source_url  \\\n",
       "2   https://www.uniprot.org/proteomes/UP000000589   \n",
       "5   https://www.uniprot.org/proteomes/UP000005447   \n",
       "4   https://www.uniprot.org/proteomes/UP000002494   \n",
       "11  https://www.uniprot.org/proteomes/UP000005215   \n",
       "8   https://www.uniprot.org/proteomes/UP000504601   \n",
       "0   https://www.uniprot.org/proteomes/UP000515203   \n",
       "6   https://www.uniprot.org/proteomes/UP000189706   \n",
       "10  https://www.uniprot.org/proteomes/UP000081671   \n",
       "1   https://www.uniprot.org/proteomes/UP000006813   \n",
       "7   https://www.uniprot.org/proteomes/UP000001811   \n",
       "12  https://www.uniprot.org/proteomes/UP000335636   \n",
       "13  https://www.uniprot.org/proteomes/UP000028990   \n",
       "3   https://www.uniprot.org/proteomes/UP000092124   \n",
       "9   https://www.uniprot.org/proteomes/UP000001075   \n",
       "\n",
       "                      source_db source_rel      used_clade  conserved_hogs  \\\n",
       "2   UniProt Reference Proteomes   2022-Feb       Myomorpha           15848   \n",
       "5   UniProt Reference Proteomes   2022-Feb  Hystricomorpha           13249   \n",
       "4   UniProt Reference Proteomes   2022-Feb       Myomorpha           15848   \n",
       "11  UniProt Reference Proteomes   2022-Feb        Rodentia           12911   \n",
       "8   UniProt Reference Proteomes   2022-Feb       Myomorpha           15848   \n",
       "0   UniProt Reference Proteomes   2022-Feb  Hystricomorpha           13249   \n",
       "6   UniProt Reference Proteomes   2022-Feb       Myomorpha           15848   \n",
       "10  UniProt Reference Proteomes   2022-Feb        Rodentia           12911   \n",
       "1   UniProt Reference Proteomes   2022-Feb  Hystricomorpha           13249   \n",
       "7   UniProt Reference Proteomes   2022-Feb          Glires           13449   \n",
       "12  UniProt Reference Proteomes   2022-Feb        Rodentia           12911   \n",
       "13  UniProt Reference Proteomes   2022-Feb  Hystricomorpha           13249   \n",
       "3   UniProt Reference Proteomes   2022-Feb       Myomorpha           15848   \n",
       "9   UniProt Reference Proteomes   2022-Feb       Myomorpha           15848   \n",
       "\n",
       "    hog_single  hog_single_abs  ...  prot_contamination_partial_abs  \\\n",
       "2        97.02           15375  ...                               0   \n",
       "5        96.01           12721  ...                               0   \n",
       "4        94.73           15013  ...                               0   \n",
       "11       95.02           12268  ...                               0   \n",
       "8        93.56           14827  ...                               0   \n",
       "0        94.11           12468  ...                               0   \n",
       "6        90.24           14302  ...                               0   \n",
       "10       92.67           11964  ...                               0   \n",
       "1        86.41           11448  ...                               0   \n",
       "7        84.19           11323  ...                               0   \n",
       "12       76.21            9840  ...                               0   \n",
       "13       81.47           10794  ...                               0   \n",
       "3        78.71           12474  ...                               0   \n",
       "9        76.68           12152  ...                               0   \n",
       "\n",
       "    prot_contamination_fragment  prot_contamination_fragment_abs  \\\n",
       "2                           0.0                                0   \n",
       "5                           0.0                                0   \n",
       "4                           0.0                                0   \n",
       "11                          0.0                                0   \n",
       "8                           0.0                                0   \n",
       "0                           0.0                                0   \n",
       "6                           0.0                                0   \n",
       "10                          0.0                                0   \n",
       "1                           0.0                                0   \n",
       "7                           0.0                                0   \n",
       "12                          0.0                                0   \n",
       "13                          0.0                                0   \n",
       "3                           0.0                                0   \n",
       "9                           0.0                                0   \n",
       "\n",
       "    prot_not_mapped  prot_not_mapped_abs  prot_consistent_fit  \\\n",
       "2              0.10                   21                95.34   \n",
       "5              0.01                    1                95.13   \n",
       "4              0.11                   24                95.17   \n",
       "11             0.00                    0                94.24   \n",
       "8              0.09                   20                89.17   \n",
       "0              0.05                   11                89.94   \n",
       "6              0.08                   16                88.33   \n",
       "10             0.08                   16                87.43   \n",
       "1              0.07                   14                79.52   \n",
       "7              0.08                   16                81.35   \n",
       "12             0.23                   71                57.58   \n",
       "13             0.36                   73                69.36   \n",
       "3              0.57                  138                57.03   \n",
       "9              0.40                   95                57.79   \n",
       "\n",
       "    prot_contamination_fit  prot_inconsistent_fit     Score  \\\n",
       "2                      0.0                   0.26  0.871960   \n",
       "5                      0.0                   0.56  0.871143   \n",
       "4                      0.0                   0.37  0.868926   \n",
       "11                     0.0                   0.96  0.867243   \n",
       "8                      0.0                   1.47  0.861129   \n",
       "0                      0.0                   2.03  0.861069   \n",
       "6                      0.0                   1.26  0.857576   \n",
       "10                     0.0                   1.67  0.855128   \n",
       "1                      0.0                   1.67  0.831445   \n",
       "7                      0.0                   1.25  0.830335   \n",
       "12                     0.0                   1.97  0.787178   \n",
       "13                     0.0                   1.37  0.784435   \n",
       "3                      0.0                   1.48  0.782228   \n",
       "9                      0.0                   1.02  0.740583   \n",
       "\n",
       "                           sc_name  \n",
       "2                     Mus musculus  \n",
       "5                  Cavia porcellus  \n",
       "4                Rattus norvegicus  \n",
       "11      Ictidomys tridecemlineatus  \n",
       "8   Peromyscus maniculatus bairdii  \n",
       "0                    Octodon degus  \n",
       "6             Mesocricetus auratus  \n",
       "10                 Dipodomys ordii  \n",
       "1            Heterocephalus glaber  \n",
       "7            Oryctolagus cuniculus  \n",
       "12                   Marmota monax  \n",
       "13              Fukomys damarensis  \n",
       "3                   Neotoma lepida  \n",
       "9               Cricetulus griseus  \n",
       "\n",
       "[14 rows x 44 columns]"
      ]
     },
     "execution_count": 41,
     "metadata": {},
     "output_type": "execute_result"
    }
   ],
   "source": [
    "# glires 314147  \n",
    "# mesagiospermae 1437183\n",
    "\n",
    "#adress = f\"http://localhost:8000/api/results/?taxon_ids={tax_id}\"\n",
    "\n",
    "#\n",
    "adress = f\"https://omark.omabrowser.org/api/results/?taxon_ids={tax_id}\"\n",
    "\n",
    "# Get the data \n",
    "data_row = ur.urlopen(adress)\n",
    "data_json = json.loads(data_row.read())\n",
    "Data = pd.DataFrame.from_dict(data_json)\n",
    "\n",
    "#Score the genomes of interest \n",
    "result = Scoring(Data, parameters, score_option)    \n",
    "\n",
    "Add_names(result)\n",
    "\n",
    "result.sort_values(by = [\"Score\"], ascending = False, inplace = True) \n",
    "result\n"
   ]
  },
  {
   "cell_type": "markdown",
   "id": "ced60d51-333f-4705-8a80-bef2ab681e6c",
   "metadata": {
    "tags": []
   },
   "source": [
    "# Main - part 2 : finding the best database"
   ]
  },
  {
   "cell_type": "code",
   "execution_count": 16,
   "id": "27191873-d44e-49d1-9e9a-0719b7d6194a",
   "metadata": {
    "tags": []
   },
   "outputs": [
    {
     "data": {
      "text/html": [
       "<div>\n",
       "<style scoped>\n",
       "    .dataframe tbody tr th:only-of-type {\n",
       "        vertical-align: middle;\n",
       "    }\n",
       "\n",
       "    .dataframe tbody tr th {\n",
       "        vertical-align: top;\n",
       "    }\n",
       "\n",
       "    .dataframe thead th {\n",
       "        text-align: right;\n",
       "    }\n",
       "</style>\n",
       "<table border=\"1\" class=\"dataframe\">\n",
       "  <thead>\n",
       "    <tr style=\"text-align: right;\">\n",
       "      <th></th>\n",
       "      <th>UniProt Reference Proteomes</th>\n",
       "      <th>Ensembl</th>\n",
       "      <th>RefSeq</th>\n",
       "      <th>max_score</th>\n",
       "      <th>best_dtbase</th>\n",
       "      <th>taxon_id</th>\n",
       "      <th>diff_UP_Ens</th>\n",
       "      <th>diff_UP_RS</th>\n",
       "      <th>diff_Ens_RS</th>\n",
       "    </tr>\n",
       "  </thead>\n",
       "  <tbody>\n",
       "    <tr>\n",
       "      <th>0</th>\n",
       "      <td>0.830335</td>\n",
       "      <td>0.834795</td>\n",
       "      <td>0.849706</td>\n",
       "      <td>0.849706</td>\n",
       "      <td>RefSeq</td>\n",
       "      <td>9986</td>\n",
       "      <td>-0.004461</td>\n",
       "      <td>-0.019372</td>\n",
       "      <td>-0.014911</td>\n",
       "    </tr>\n",
       "    <tr>\n",
       "      <th>1</th>\n",
       "      <td>0.855128</td>\n",
       "      <td>0.851359</td>\n",
       "      <td>0.855722</td>\n",
       "      <td>0.855722</td>\n",
       "      <td>RefSeq</td>\n",
       "      <td>10020</td>\n",
       "      <td>0.003769</td>\n",
       "      <td>-0.000594</td>\n",
       "      <td>-0.004363</td>\n",
       "    </tr>\n",
       "    <tr>\n",
       "      <th>2</th>\n",
       "      <td>0.740583</td>\n",
       "      <td>0.870298</td>\n",
       "      <td>0.857844</td>\n",
       "      <td>0.870298</td>\n",
       "      <td>Ensembl</td>\n",
       "      <td>10029</td>\n",
       "      <td>-0.129716</td>\n",
       "      <td>-0.117262</td>\n",
       "      <td>0.012454</td>\n",
       "    </tr>\n",
       "    <tr>\n",
       "      <th>3</th>\n",
       "      <td>0.857576</td>\n",
       "      <td>0.852519</td>\n",
       "      <td>0.862819</td>\n",
       "      <td>0.862819</td>\n",
       "      <td>RefSeq</td>\n",
       "      <td>10036</td>\n",
       "      <td>0.005056</td>\n",
       "      <td>-0.005243</td>\n",
       "      <td>-0.010299</td>\n",
       "    </tr>\n",
       "    <tr>\n",
       "      <th>4</th>\n",
       "      <td>0.871960</td>\n",
       "      <td>0.871255</td>\n",
       "      <td>0.869925</td>\n",
       "      <td>0.871960</td>\n",
       "      <td>UniProt Reference Proteomes</td>\n",
       "      <td>10090</td>\n",
       "      <td>0.000705</td>\n",
       "      <td>0.002034</td>\n",
       "      <td>0.001329</td>\n",
       "    </tr>\n",
       "    <tr>\n",
       "      <th>5</th>\n",
       "      <td>0.868926</td>\n",
       "      <td>0.858429</td>\n",
       "      <td>0.866770</td>\n",
       "      <td>0.868926</td>\n",
       "      <td>UniProt Reference Proteomes</td>\n",
       "      <td>10116</td>\n",
       "      <td>0.010498</td>\n",
       "      <td>0.002156</td>\n",
       "      <td>-0.008342</td>\n",
       "    </tr>\n",
       "    <tr>\n",
       "      <th>6</th>\n",
       "      <td>0.871143</td>\n",
       "      <td>0.871513</td>\n",
       "      <td>0.862119</td>\n",
       "      <td>0.871513</td>\n",
       "      <td>Ensembl</td>\n",
       "      <td>10141</td>\n",
       "      <td>-0.000370</td>\n",
       "      <td>0.009024</td>\n",
       "      <td>0.009394</td>\n",
       "    </tr>\n",
       "    <tr>\n",
       "      <th>7</th>\n",
       "      <td>0.861069</td>\n",
       "      <td>0.869040</td>\n",
       "      <td>0.862047</td>\n",
       "      <td>0.869040</td>\n",
       "      <td>Ensembl</td>\n",
       "      <td>10160</td>\n",
       "      <td>-0.007971</td>\n",
       "      <td>-0.000978</td>\n",
       "      <td>0.006993</td>\n",
       "    </tr>\n",
       "    <tr>\n",
       "      <th>8</th>\n",
       "      <td>0.831445</td>\n",
       "      <td>0.870016</td>\n",
       "      <td>0.857429</td>\n",
       "      <td>0.870016</td>\n",
       "      <td>Ensembl</td>\n",
       "      <td>10181</td>\n",
       "      <td>-0.038571</td>\n",
       "      <td>-0.025985</td>\n",
       "      <td>0.012587</td>\n",
       "    </tr>\n",
       "    <tr>\n",
       "      <th>9</th>\n",
       "      <td>0.867243</td>\n",
       "      <td>0.867255</td>\n",
       "      <td>0.862238</td>\n",
       "      <td>0.867255</td>\n",
       "      <td>Ensembl</td>\n",
       "      <td>43179</td>\n",
       "      <td>-0.000012</td>\n",
       "      <td>0.005006</td>\n",
       "      <td>0.005017</td>\n",
       "    </tr>\n",
       "    <tr>\n",
       "      <th>10</th>\n",
       "      <td>0.861129</td>\n",
       "      <td>0.857074</td>\n",
       "      <td>0.860746</td>\n",
       "      <td>0.861129</td>\n",
       "      <td>UniProt Reference Proteomes</td>\n",
       "      <td>230844</td>\n",
       "      <td>0.004055</td>\n",
       "      <td>0.000383</td>\n",
       "      <td>-0.003672</td>\n",
       "    </tr>\n",
       "    <tr>\n",
       "      <th>11</th>\n",
       "      <td>0.784435</td>\n",
       "      <td>0.870817</td>\n",
       "      <td>0.856694</td>\n",
       "      <td>0.870817</td>\n",
       "      <td>Ensembl</td>\n",
       "      <td>885580</td>\n",
       "      <td>-0.086382</td>\n",
       "      <td>-0.072259</td>\n",
       "      <td>0.014123</td>\n",
       "    </tr>\n",
       "  </tbody>\n",
       "</table>\n",
       "</div>"
      ],
      "text/plain": [
       "    UniProt Reference Proteomes   Ensembl    RefSeq  max_score  \\\n",
       "0                      0.830335  0.834795  0.849706   0.849706   \n",
       "1                      0.855128  0.851359  0.855722   0.855722   \n",
       "2                      0.740583  0.870298  0.857844   0.870298   \n",
       "3                      0.857576  0.852519  0.862819   0.862819   \n",
       "4                      0.871960  0.871255  0.869925   0.871960   \n",
       "5                      0.868926  0.858429  0.866770   0.868926   \n",
       "6                      0.871143  0.871513  0.862119   0.871513   \n",
       "7                      0.861069  0.869040  0.862047   0.869040   \n",
       "8                      0.831445  0.870016  0.857429   0.870016   \n",
       "9                      0.867243  0.867255  0.862238   0.867255   \n",
       "10                     0.861129  0.857074  0.860746   0.861129   \n",
       "11                     0.784435  0.870817  0.856694   0.870817   \n",
       "\n",
       "                    best_dtbase  taxon_id  diff_UP_Ens  diff_UP_RS  \\\n",
       "0                        RefSeq      9986    -0.004461   -0.019372   \n",
       "1                        RefSeq     10020     0.003769   -0.000594   \n",
       "2                       Ensembl     10029    -0.129716   -0.117262   \n",
       "3                        RefSeq     10036     0.005056   -0.005243   \n",
       "4   UniProt Reference Proteomes     10090     0.000705    0.002034   \n",
       "5   UniProt Reference Proteomes     10116     0.010498    0.002156   \n",
       "6                       Ensembl     10141    -0.000370    0.009024   \n",
       "7                       Ensembl     10160    -0.007971   -0.000978   \n",
       "8                       Ensembl     10181    -0.038571   -0.025985   \n",
       "9                       Ensembl     43179    -0.000012    0.005006   \n",
       "10  UniProt Reference Proteomes    230844     0.004055    0.000383   \n",
       "11                      Ensembl    885580    -0.086382   -0.072259   \n",
       "\n",
       "    diff_Ens_RS  \n",
       "0     -0.014911  \n",
       "1     -0.004363  \n",
       "2      0.012454  \n",
       "3     -0.010299  \n",
       "4      0.001329  \n",
       "5     -0.008342  \n",
       "6      0.009394  \n",
       "7      0.006993  \n",
       "8      0.012587  \n",
       "9      0.005017  \n",
       "10    -0.003672  \n",
       "11     0.014123  "
      ]
     },
     "execution_count": 16,
     "metadata": {},
     "output_type": "execute_result"
    }
   ],
   "source": [
    "best_scores_Uniprot = Best_scores_per_dtbase(\"UniProt Reference Proteomes\", result)\n",
    "best_scores_Ensembl = Best_scores_per_dtbase(\"Ensembl\", result)\n",
    "best_scores_RefSeq = Best_scores_per_dtbase(\"RefSeq\", result)\n",
    "\n",
    "l_dtbase = Col_in_list(\"source_db\", result)\n",
    "\n",
    "best_database_full = Best_dtbase_per_taxon(best_scores_Uniprot, best_scores_Ensembl, best_scores_RefSeq, l_dtbase, result)\n",
    "\n",
    "best_database = best_database_full[0]\n",
    "comp_database = best_database_full[1]\n",
    "\n",
    "#best_database\n",
    "comp_database "
   ]
  },
  {
   "cell_type": "code",
   "execution_count": 17,
   "id": "c9f8b3dd-bf71-4a5e-9e4f-2d8d93f8855b",
   "metadata": {
    "tags": []
   },
   "outputs": [
    {
     "data": {
      "image/png": "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\n",
      "text/plain": [
       "<Figure size 311.111x400 with 4 Axes>"
      ]
     },
     "metadata": {},
     "output_type": "display_data"
    }
   ],
   "source": [
    "l_UP = [0] * len(comp_database)\n",
    "l_Ens = [0] * len(comp_database)\n",
    "l_RS = [0] * len(comp_database)\n",
    "thres = 0.05   # Tuckey fence \n",
    "\n",
    "for index, row in comp_database.iterrows():\n",
    "    if row[\"best_dtbase\"] == \"UniProt Reference Proteomes\": \n",
    "        l_UP[index] = True\n",
    "        if abs(row[\"diff_UP_Ens\"]) < thres:\n",
    "            l_Ens[index] = True\n",
    "        else:\n",
    "            l_Ens[index] = False\n",
    "        if abs(row[\"diff_UP_RS\"]) < thres: \n",
    "            l_RS[index] = True\n",
    "        else:\n",
    "            l_RS[index] = False\n",
    "    elif row[\"best_dtbase\"] == \"Ensembl\": \n",
    "        l_Ens[index] = True\n",
    "        if abs(row[\"diff_UP_Ens\"]) < thres:\n",
    "            l_UP[index] = True\n",
    "        else: \n",
    "            l_UP[index] = False\n",
    "        if abs(row[\"diff_Ens_RS\"]) < thres:\n",
    "            l_RS[index] = True\n",
    "        else:\n",
    "            l_RS[index] = False\n",
    "    elif row[\"best_dtbase\"] == \"RefSeq\":\n",
    "        l_RS[index] = True \n",
    "        if abs(row[\"diff_UP_RS\"]) < thres:\n",
    "            l_UP[index] = True\n",
    "        else:\n",
    "            l_UP[index] = False\n",
    "        if abs(row[\"diff_Ens_RS\"]) < thres: \n",
    "            l_Ens[index] = True\n",
    "        else:\n",
    "            l_Ens[index] = False \n",
    "\n",
    "\n",
    "arrays = [l_UP, l_Ens, l_RS]\n",
    "tuples = list(zip(*arrays))\n",
    "index = pd.MultiIndex.from_tuples(tuples, names=[\"UniProt\", \"Ensembl\", \"RefSeq\"])\n",
    "serie = pd.Series(index.value_counts(), index = index)\n",
    "\n",
    "from upsetplot import UpSet\n",
    "test = UpSet(serie, subset_size = \"count\", facecolor = \"#3db7e9ff\", show_counts = True).plot() #, show_percentages = True\n",
    "\n"
   ]
  },
  {
   "cell_type": "code",
   "execution_count": 18,
   "id": "3c0e4737-dea4-43fb-b46d-77ec597430f0",
   "metadata": {
    "tags": []
   },
   "outputs": [
    {
     "data": {
      "text/html": [
       "<div>\n",
       "<style scoped>\n",
       "    .dataframe tbody tr th:only-of-type {\n",
       "        vertical-align: middle;\n",
       "    }\n",
       "\n",
       "    .dataframe tbody tr th {\n",
       "        vertical-align: top;\n",
       "    }\n",
       "\n",
       "    .dataframe thead th {\n",
       "        text-align: right;\n",
       "    }\n",
       "</style>\n",
       "<table border=\"1\" class=\"dataframe\">\n",
       "  <thead>\n",
       "    <tr style=\"text-align: right;\">\n",
       "      <th></th>\n",
       "      <th>taxon_id</th>\n",
       "      <th>sc_name</th>\n",
       "      <th>UP</th>\n",
       "      <th>Ens</th>\n",
       "      <th>RS</th>\n",
       "    </tr>\n",
       "  </thead>\n",
       "  <tbody>\n",
       "    <tr>\n",
       "      <th>2</th>\n",
       "      <td>10029</td>\n",
       "      <td>Cricetulus griseus</td>\n",
       "      <td>False</td>\n",
       "      <td>True</td>\n",
       "      <td>True</td>\n",
       "    </tr>\n",
       "    <tr>\n",
       "      <th>11</th>\n",
       "      <td>885580</td>\n",
       "      <td>Fukomys damarensis</td>\n",
       "      <td>False</td>\n",
       "      <td>True</td>\n",
       "      <td>True</td>\n",
       "    </tr>\n",
       "  </tbody>\n",
       "</table>\n",
       "</div>"
      ],
      "text/plain": [
       "    taxon_id             sc_name     UP   Ens    RS\n",
       "2      10029  Cricetulus griseus  False  True  True\n",
       "11    885580  Fukomys damarensis  False  True  True"
      ]
     },
     "execution_count": 18,
     "metadata": {},
     "output_type": "execute_result"
    }
   ],
   "source": [
    "species_comp = pd.DataFrame()\n",
    "species_comp[\"taxon_id\"] = comp_database[\"taxon_id\"]\n",
    "Add_names(species_comp)\n",
    "species_comp[\"UP\"] = l_UP\n",
    "species_comp[\"Ens\"] = l_Ens\n",
    "species_comp[\"RS\"] = l_RS\n",
    "\n",
    "Ens_solo = dict()\n",
    "RefSeq_solo = dict()\n",
    "Uniprot_solo = dict()\n",
    "Ens_RefSeq = dict()\n",
    "Uniprot_Ens = dict()\n",
    "Uniprot_RefSeq = dict()\n",
    "\n",
    "l_diff_spe = pd.DataFrame(columns = species_comp.columns)\n",
    "\n",
    "for index, row in species_comp.iterrows():\n",
    "    if row[\"UP\"] == False or row[\"Ens\"]== False or row[\"RS\"] == False:\n",
    "        l_diff_spe.loc[index] = row.tolist()\n",
    "\n",
    "l_diff_spe"
   ]
  },
  {
   "cell_type": "code",
   "execution_count": 19,
   "id": "999fdee2-21d2-44ae-95b4-5df54956f1a6",
   "metadata": {},
   "outputs": [
    {
     "name": "stderr",
     "output_type": "stream",
     "text": [
      "/Users/perrinekergoat/opt/miniconda3/envs/first_step/lib/python3.9/site-packages/numpy/core/fromnumeric.py:3156: VisibleDeprecationWarning: Creating an ndarray from ragged nested sequences (which is a list-or-tuple of lists-or-tuples-or ndarrays with different lengths or shapes) is deprecated. If you meant to do this, you must specify 'dtype=object' when creating the ndarray.\n",
      "  return asarray(a).ndim\n"
     ]
    },
    {
     "data": {
      "text/html": [
       "<div>\n",
       "<style scoped>\n",
       "    .dataframe tbody tr th:only-of-type {\n",
       "        vertical-align: middle;\n",
       "    }\n",
       "\n",
       "    .dataframe tbody tr th {\n",
       "        vertical-align: top;\n",
       "    }\n",
       "\n",
       "    .dataframe thead th {\n",
       "        text-align: right;\n",
       "    }\n",
       "</style>\n",
       "<table border=\"1\" class=\"dataframe\">\n",
       "  <thead>\n",
       "    <tr style=\"text-align: right;\">\n",
       "      <th></th>\n",
       "      <th>data_hash</th>\n",
       "      <th>contaminants</th>\n",
       "      <th>taxon_id</th>\n",
       "      <th>source_url</th>\n",
       "      <th>source_db</th>\n",
       "      <th>source_rel</th>\n",
       "      <th>used_clade</th>\n",
       "      <th>conserved_hogs</th>\n",
       "      <th>hog_single</th>\n",
       "      <th>hog_single_abs</th>\n",
       "      <th>...</th>\n",
       "      <th>prot_contamination_partial_abs</th>\n",
       "      <th>prot_contamination_fragment</th>\n",
       "      <th>prot_contamination_fragment_abs</th>\n",
       "      <th>prot_not_mapped</th>\n",
       "      <th>prot_not_mapped_abs</th>\n",
       "      <th>prot_consistent_fit</th>\n",
       "      <th>prot_contamination_fit</th>\n",
       "      <th>prot_inconsistent_fit</th>\n",
       "      <th>Score</th>\n",
       "      <th>sc_name</th>\n",
       "    </tr>\n",
       "  </thead>\n",
       "  <tbody>\n",
       "    <tr>\n",
       "      <th>58</th>\n",
       "      <td>b2f89c636c06aa6e83323f87bdbf3b83</td>\n",
       "      <td>[]</td>\n",
       "      <td>10029</td>\n",
       "      <td>ftp://ftp.ensembl.org/pub/release-107/fasta/cr...</td>\n",
       "      <td>Ensembl</td>\n",
       "      <td>107</td>\n",
       "      <td>Myomorpha</td>\n",
       "      <td>15848</td>\n",
       "      <td>95.14</td>\n",
       "      <td>15078</td>\n",
       "      <td>...</td>\n",
       "      <td>0</td>\n",
       "      <td>0.0</td>\n",
       "      <td>0</td>\n",
       "      <td>0.02</td>\n",
       "      <td>4</td>\n",
       "      <td>95.49</td>\n",
       "      <td>0.0</td>\n",
       "      <td>0.87</td>\n",
       "      <td>0.870298</td>\n",
       "      <td>Cricetulus griseus</td>\n",
       "    </tr>\n",
       "    <tr>\n",
       "      <th>59</th>\n",
       "      <td>15b7d4040a88088d345dee1e8b92aaa6</td>\n",
       "      <td>[]</td>\n",
       "      <td>10029</td>\n",
       "      <td>ftp://ftp.ensembl.org/pub/release-107/fasta/cr...</td>\n",
       "      <td>Ensembl</td>\n",
       "      <td>107</td>\n",
       "      <td>Myomorpha</td>\n",
       "      <td>15848</td>\n",
       "      <td>91.60</td>\n",
       "      <td>14517</td>\n",
       "      <td>...</td>\n",
       "      <td>0</td>\n",
       "      <td>0.0</td>\n",
       "      <td>0</td>\n",
       "      <td>0.01</td>\n",
       "      <td>2</td>\n",
       "      <td>96.20</td>\n",
       "      <td>0.0</td>\n",
       "      <td>0.39</td>\n",
       "      <td>0.863657</td>\n",
       "      <td>Cricetulus griseus</td>\n",
       "    </tr>\n",
       "    <tr>\n",
       "      <th>23</th>\n",
       "      <td>e39005fe9a9c6afc04ee1c390bb7bd8e</td>\n",
       "      <td>[]</td>\n",
       "      <td>10029</td>\n",
       "      <td>https://ftp.ncbi.nlm.nih.gov/genomes/all/GCF/0...</td>\n",
       "      <td>RefSeq</td>\n",
       "      <td>2022-Aug</td>\n",
       "      <td>Myomorpha</td>\n",
       "      <td>15848</td>\n",
       "      <td>90.92</td>\n",
       "      <td>14409</td>\n",
       "      <td>...</td>\n",
       "      <td>0</td>\n",
       "      <td>0.0</td>\n",
       "      <td>0</td>\n",
       "      <td>0.11</td>\n",
       "      <td>24</td>\n",
       "      <td>88.56</td>\n",
       "      <td>0.0</td>\n",
       "      <td>1.14</td>\n",
       "      <td>0.857844</td>\n",
       "      <td>Cricetulus griseus</td>\n",
       "    </tr>\n",
       "    <tr>\n",
       "      <th>60</th>\n",
       "      <td>1ca785758cf3d6d67647d94374010da0</td>\n",
       "      <td>[]</td>\n",
       "      <td>10029</td>\n",
       "      <td>ftp://ftp.ensembl.org/pub/release-107/fasta/cr...</td>\n",
       "      <td>Ensembl</td>\n",
       "      <td>107</td>\n",
       "      <td>Myomorpha</td>\n",
       "      <td>15848</td>\n",
       "      <td>93.59</td>\n",
       "      <td>14832</td>\n",
       "      <td>...</td>\n",
       "      <td>0</td>\n",
       "      <td>0.0</td>\n",
       "      <td>0</td>\n",
       "      <td>0.18</td>\n",
       "      <td>40</td>\n",
       "      <td>88.73</td>\n",
       "      <td>0.0</td>\n",
       "      <td>1.58</td>\n",
       "      <td>0.855413</td>\n",
       "      <td>Cricetulus griseus</td>\n",
       "    </tr>\n",
       "    <tr>\n",
       "      <th>1</th>\n",
       "      <td>309305532c68e1d1009f2990f3982828</td>\n",
       "      <td>[]</td>\n",
       "      <td>10029</td>\n",
       "      <td>https://www.uniprot.org/proteomes/UP000001075</td>\n",
       "      <td>UniProt Reference Proteomes</td>\n",
       "      <td>2022-Feb</td>\n",
       "      <td>Myomorpha</td>\n",
       "      <td>15848</td>\n",
       "      <td>76.68</td>\n",
       "      <td>12152</td>\n",
       "      <td>...</td>\n",
       "      <td>0</td>\n",
       "      <td>0.0</td>\n",
       "      <td>0</td>\n",
       "      <td>0.40</td>\n",
       "      <td>95</td>\n",
       "      <td>57.79</td>\n",
       "      <td>0.0</td>\n",
       "      <td>1.02</td>\n",
       "      <td>0.740583</td>\n",
       "      <td>Cricetulus griseus</td>\n",
       "    </tr>\n",
       "  </tbody>\n",
       "</table>\n",
       "<p>5 rows × 44 columns</p>\n",
       "</div>"
      ],
      "text/plain": [
       "                           data_hash contaminants  taxon_id  \\\n",
       "58  b2f89c636c06aa6e83323f87bdbf3b83           []     10029   \n",
       "59  15b7d4040a88088d345dee1e8b92aaa6           []     10029   \n",
       "23  e39005fe9a9c6afc04ee1c390bb7bd8e           []     10029   \n",
       "60  1ca785758cf3d6d67647d94374010da0           []     10029   \n",
       "1   309305532c68e1d1009f2990f3982828           []     10029   \n",
       "\n",
       "                                           source_url  \\\n",
       "58  ftp://ftp.ensembl.org/pub/release-107/fasta/cr...   \n",
       "59  ftp://ftp.ensembl.org/pub/release-107/fasta/cr...   \n",
       "23  https://ftp.ncbi.nlm.nih.gov/genomes/all/GCF/0...   \n",
       "60  ftp://ftp.ensembl.org/pub/release-107/fasta/cr...   \n",
       "1       https://www.uniprot.org/proteomes/UP000001075   \n",
       "\n",
       "                      source_db source_rel used_clade  conserved_hogs  \\\n",
       "58                      Ensembl        107  Myomorpha           15848   \n",
       "59                      Ensembl        107  Myomorpha           15848   \n",
       "23                       RefSeq   2022-Aug  Myomorpha           15848   \n",
       "60                      Ensembl        107  Myomorpha           15848   \n",
       "1   UniProt Reference Proteomes   2022-Feb  Myomorpha           15848   \n",
       "\n",
       "    hog_single  hog_single_abs  ...  prot_contamination_partial_abs  \\\n",
       "58       95.14           15078  ...                               0   \n",
       "59       91.60           14517  ...                               0   \n",
       "23       90.92           14409  ...                               0   \n",
       "60       93.59           14832  ...                               0   \n",
       "1        76.68           12152  ...                               0   \n",
       "\n",
       "    prot_contamination_fragment  prot_contamination_fragment_abs  \\\n",
       "58                          0.0                                0   \n",
       "59                          0.0                                0   \n",
       "23                          0.0                                0   \n",
       "60                          0.0                                0   \n",
       "1                           0.0                                0   \n",
       "\n",
       "    prot_not_mapped  prot_not_mapped_abs  prot_consistent_fit  \\\n",
       "58             0.02                    4                95.49   \n",
       "59             0.01                    2                96.20   \n",
       "23             0.11                   24                88.56   \n",
       "60             0.18                   40                88.73   \n",
       "1              0.40                   95                57.79   \n",
       "\n",
       "    prot_contamination_fit  prot_inconsistent_fit     Score  \\\n",
       "58                     0.0                   0.87  0.870298   \n",
       "59                     0.0                   0.39  0.863657   \n",
       "23                     0.0                   1.14  0.857844   \n",
       "60                     0.0                   1.58  0.855413   \n",
       "1                      0.0                   1.02  0.740583   \n",
       "\n",
       "               sc_name  \n",
       "58  Cricetulus griseus  \n",
       "59  Cricetulus griseus  \n",
       "23  Cricetulus griseus  \n",
       "60  Cricetulus griseus  \n",
       "1   Cricetulus griseus  \n",
       "\n",
       "[5 rows x 44 columns]"
      ]
     },
     "execution_count": 19,
     "metadata": {},
     "output_type": "execute_result"
    }
   ],
   "source": [
    "cricetulus = pd.DataFrame(columns = result.columns)\n",
    "mesocricetus = pd.DataFrame(columns = result.columns)\n",
    "rattus = pd.DataFrame(columns = result.columns)\n",
    "cricetulus_1 = pd.DataFrame(columns = result.columns)\n",
    "\n",
    "for index, row in result.iterrows():\n",
    "    if row[\"taxon_id\"] == 10029:\n",
    "        cricetulus.loc[index] = row.tolist()\n",
    "    if row[\"taxon_id\"] == 10036:\n",
    "        mesocricetus.loc[index] = row.tolist()\n",
    "    if row[\"taxon_id\"] == 10116:\n",
    "        rattus.loc[index] = row.tolist()\n",
    "\n",
    "for index, row in result.iterrows():\n",
    "    if row[\"taxon_id\"] == 10029:\n",
    "        cricetulus_1.loc[0] = row.tolist()\n",
    "\n",
    "        \n",
    "#10029 Cricetulus griseus \n",
    "#10036 Mesocricetus auratus \n",
    "#10116 Rattus norvegicus \n",
    "#pd.options.display.max_colwidth = 150\n",
    "#cricetulus_1\n",
    "cricetulus\n",
    "#mesocricetus\n",
    "#rattus"
   ]
  },
  {
   "cell_type": "code",
   "execution_count": null,
   "id": "61c3cf24-d771-4869-969d-a2bce4323816",
   "metadata": {},
   "outputs": [],
   "source": []
  },
  {
   "cell_type": "code",
   "execution_count": null,
   "id": "0c9829ff-7e8b-41ff-a0f5-9ed77d3838f7",
   "metadata": {},
   "outputs": [],
   "source": []
  },
  {
   "cell_type": "markdown",
   "id": "3b613976-dcab-4da8-a4f0-dd0f8713556b",
   "metadata": {
    "jp-MarkdownHeadingCollapsed": true,
    "tags": []
   },
   "source": [
    "# liste des especes des catégories --> index des listes "
   ]
  },
  {
   "cell_type": "markdown",
   "id": "1323bd8b-7900-4fa6-851b-671a36f654bd",
   "metadata": {},
   "source": [
    "# Main - part 3 : get the highest diversity for the species choice"
   ]
  },
  {
   "cell_type": "code",
   "execution_count": 20,
   "id": "2336bc41-33f1-4cde-9ee0-d5ae144b5cf2",
   "metadata": {
    "tags": []
   },
   "outputs": [],
   "source": [
    "def Species_choice(starting_species, best_database, k):\n",
    "\n",
    "\n",
    "    tree = ncbi.get_topology(list(best_database[\"taxon_id\"]), intermediate_nodes=True)\n",
    "    tax2score = dict(zip(best_database.taxon_id, best_database.Score))\n",
    "    leaves_left = [str(x) for x in list(best_database[\"taxon_id\"])]\n",
    "    subnodes = set()\n",
    "\n",
    "    while len(starting_species) < k:\n",
    "        for species in starting_species:\n",
    "            if species in leaves_left:\n",
    "                leaves_left.remove(species)\n",
    "                node = tree&species\n",
    "                for ancestor in node.get_ancestors():\n",
    "                    subnodes.add(ancestor.name)\n",
    "        #print(subnodes)\n",
    "        #print(leaves_left)\n",
    "\n",
    "        tree = ncbi.get_topology(list(leaves_left), intermediate_nodes=True)\n",
    "        tree.convert_to_ultrametric()\n",
    "        dist= list()\n",
    "        mod_dist = float(0)\n",
    "        b_div = float(0)\n",
    "\n",
    "        for leaf in tree.iter_leaves():\n",
    "            for ancest in leaf.iter_ancestors():\n",
    "                if ancest.name in subnodes:\n",
    "                    br_l = tree.get_distance(leaf, ancest.name, topology_only = False)\n",
    "                    score_leaf = tax2score[int(leaf.name)] \n",
    "                    div = br_l * score_leaf\n",
    "                    if div > b_div:\n",
    "                        b_div = div\n",
    "                        select_spec = leaf.name\n",
    "                    break\n",
    "\n",
    "        starting_species.append(str(select_spec))\n",
    "    return(starting_species)\n"
   ]
  },
  {
   "cell_type": "code",
   "execution_count": null,
   "id": "e1c47fae-933c-486b-a482-e54beed10f62",
   "metadata": {},
   "outputs": [],
   "source": []
  },
  {
   "cell_type": "code",
   "execution_count": 21,
   "id": "5081079f-2649-4765-a1a3-34afe783c316",
   "metadata": {},
   "outputs": [],
   "source": [
    "#mettre tous les noeuds parents des espèces selectionnees dans un set\n",
    "#pour les nouvelles especes ajoutter leurs parents \n",
    "#calcul des distances par rapport au plus proche noeud du set \n",
    "# garder en mémoire uniquement la meilleure distance dans la boucle qui recalcule toutes les dist "
   ]
  },
  {
   "cell_type": "code",
   "execution_count": 22,
   "id": "416dcd11-b654-435f-a92f-60902c22dc31",
   "metadata": {
    "tags": []
   },
   "outputs": [
    {
     "name": "stdout",
     "output_type": "stream",
     "text": [
      "['10090', '9986', '10141', '43179', '10020']\n"
     ]
    },
    {
     "data": {
      "text/plain": [
       "{9986: 'Oryctolagus cuniculus',\n",
       " 10020: 'Dipodomys ordii',\n",
       " 10090: 'Mus musculus',\n",
       " 10141: 'Cavia porcellus',\n",
       " 43179: 'Ictidomys tridecemlineatus'}"
      ]
     },
     "execution_count": 22,
     "metadata": {},
     "output_type": "execute_result"
    }
   ],
   "source": [
    "k = 5\n",
    "starting_taxon = [str(x) for x in list(best_database[\"taxon_id\"])]\n",
    "starting_species = [starting_taxon[0]]\n",
    "#starting_species=[\"10090\"]\n",
    "Species_choice(starting_species, best_database, k)\n",
    "\n",
    "print(starting_species)\n",
    "\n",
    "name_sel_species = ncbi.get_taxid_translator(starting_species)\n",
    "name_sel_species\n",
    "#mettre tous les noeuds parents des espèces selectionnees dans un set\n",
    "#pour les nouvelles especes ajoutter leurs parents \n",
    "#calcul des distances par rapport au plus proche noeud du set \n",
    "# garder en mémoire uniquement la meilleure distance dans la boucle qui recalcule toutes les dist \n"
   ]
  },
  {
   "cell_type": "code",
   "execution_count": 23,
   "id": "2f69da5c-a310-42d9-9eed-001777dd5339",
   "metadata": {},
   "outputs": [],
   "source": [
    "# vérifier que la starting specie est une feuille \n",
    "# vérifier qu'il y a des données pour les 3 dtbases "
   ]
  },
  {
   "cell_type": "code",
   "execution_count": null,
   "id": "0b8cc5c1-b8f4-40f1-a4cc-bfff2f019541",
   "metadata": {},
   "outputs": [],
   "source": []
  },
  {
   "cell_type": "code",
   "execution_count": null,
   "id": "f975a81c-865e-4ffd-8ff6-cdeba4095867",
   "metadata": {},
   "outputs": [],
   "source": []
  },
  {
   "cell_type": "markdown",
   "id": "efaa6f82",
   "metadata": {
    "tags": []
   },
   "source": [
    "# Others"
   ]
  },
  {
   "cell_type": "markdown",
   "id": "46825aab",
   "metadata": {
    "jp-MarkdownHeadingCollapsed": true,
    "tags": []
   },
   "source": [
    "### CSV output"
   ]
  },
  {
   "cell_type": "code",
   "execution_count": 24,
   "id": "1a5e4dd1",
   "metadata": {},
   "outputs": [],
   "source": [
    "#best_database.to_csv(\"/Users/perrinekergoat/Desktop/best_database.csv\")\n",
    "#comp_database.to_csv(\"/Users/perrinekergoat/Desktop/comp_database.csv\")\n"
   ]
  },
  {
   "cell_type": "markdown",
   "id": "f1655a28",
   "metadata": {
    "tags": []
   },
   "source": [
    "### Graphical verification of scores"
   ]
  },
  {
   "cell_type": "code",
   "execution_count": 25,
   "id": "e092ca20",
   "metadata": {
    "tags": []
   },
   "outputs": [
    {
     "data": {
      "image/png": "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\n",
      "text/plain": [
       "<Figure size 640x480 with 1 Axes>"
      ]
     },
     "metadata": {},
     "output_type": "display_data"
    }
   ],
   "source": [
    "data_plot = result[\"Score\"]\n",
    "data_plot = data_plot.values.tolist()\n",
    "plt.plot(data_plot)\n",
    "plt.title('Vertebrate scores')\n",
    "plt.xlabel('Species')\n",
    "plt.ylabel('Score')\n",
    "plt.show()"
   ]
  },
  {
   "cell_type": "code",
   "execution_count": 26,
   "id": "c35379d2-5cd4-4b12-822a-8873a2173cfb",
   "metadata": {},
   "outputs": [
    {
     "data": {
      "image/png": "iVBORw0KGgoAAAANSUhEUgAAAkgAAAHHCAYAAABEEKc/AAAAOXRFWHRTb2Z0d2FyZQBNYXRwbG90bGliIHZlcnNpb24zLjYuMiwgaHR0cHM6Ly9tYXRwbG90bGliLm9yZy8o6BhiAAAACXBIWXMAAA9hAAAPYQGoP6dpAABW7klEQVR4nO3dd1gU1/4G8Hd3gaWDdFAURCwglqAgxWgURWOwxCQWEkssvxiNhdzciIpGjXjT1BTLjVFjitE00ajRKLFFsQR7pykKUpUubXd+fwB7sxQFBGYX3s/z7KM7c2bmO3Pvdd975swZiSAIAoiIiIhIRSp2AURERESahgGJiIiIqBIGJCIiIqJKGJCIiIiIKmFAIiIiIqqEAYmIiIioEgYkIiIiokoYkIiIiIgqYUAiIiIiqoQBiYg03nvvvQeJRIKMjAyxSyGiFoIBiaiFGT58OAwNDZGbm1tjm+DgYOjp6SEzM/Opj5ecnIz33nsPFy5ceOp9NZXw8HBERESIXQYRiYgBiaiFCQ4OxqNHj7Bz585q1xcUFGDXrl0YMmQILC0tn/p4ycnJWLp0KQMSEWkVBiSiFmb48OEwMTHBtm3bql2/a9cu5OfnIzg4+KmOU1paiuLi4qfaR0NQKpUoLCwUuwyNwGtBVHsMSEQtjIGBAV588UVERkYiLS2tyvpt27bBxMQEw4cPBwBkZWVh7ty5cHR0hFwuR4cOHfDBBx9AqVSqtrl9+zYkEgk+/vhjrFmzBi4uLpDL5Vi3bh169+4NAJg8eTIkEgkkEgm+/vpr1banT5/GkCFDYGZmBkNDQ/Tr1w8nTpyotvaMjAy88sorMDU1haWlJebMmVPlB18ikWDWrFn4/vvv4e7uDrlcjv379wMAPv74Y/j6+sLS0hIGBgbw9PTEzz//XGX7/Px8bN26VVXvpEmTVOuTkpLw+uuvw9bWFnK5HO7u7ti8eXOtrv3Bgwfh7+8Pc3NzGBsbo1OnTliwYIFam8LCQrz33nvo2LEj9PX1YW9vjxdffBFxcXGqNvn5+Xj77bdV/5l06tQJH3/8MQRBqPW1qO15fP7553B3d4ehoSFatWqFXr161RiuiZoTHbELIKKmFxwcjK1bt+LHH3/ErFmzVMsfPHiAAwcOYNy4cTAwMEBBQQH69euHpKQk/N///R/atm2LkydPIjQ0FPfv38eaNWvU9rtlyxYUFhZi+vTpkMvlGDVqFHJzc7F48WJMnz4dffv2BQD4+voCAP78808MHToUnp6eWLJkCaRSKbZs2YIBAwbg+PHj8PLyUtv/K6+8AicnJ6xcuRKnTp3CZ599hocPH+Kbb75Ra/fnn3+qzs3KygpOTk4AgE8//RTDhw9HcHAwiouLsX37drz88svYs2cPhg0bBgD49ttvMXXqVHh5eWH69OkAABcXFwBAamoq+vTpowoe1tbW+P333zFlyhTk5ORg7ty5NV7zq1ev4oUXXkC3bt2wbNkyyOVyxMbGqoVBhUKBF154AZGRkRg7dizmzJmD3NxcHDx4EFeuXIGLiwsEQcDw4cNx+PBhTJkyBT169MCBAwfwzjvvICkpCatXr37itajteWzcuBGzZ8/GSy+9pAqjly5dwunTpzF+/Pgaz5WoWRCIqMUpLS0V7O3tBR8fH7XlGzZsEAAIBw4cEARBEJYvXy4YGRkJt27dUms3f/58QSaTCYmJiYIgCEJCQoIAQDA1NRXS0tLU2p49e1YAIGzZskVtuVKpFFxdXYXAwEBBqVSqlhcUFAjOzs7CoEGDVMuWLFkiABCGDx+uto8333xTACBcvHhRtQyAIJVKhatXr1Y574KCArXvxcXFQteuXYUBAwaoLTcyMhImTpxYZfspU6YI9vb2QkZGhtrysWPHCmZmZlX2/0+rV68WAAjp6ek1ttm8ebMAQFi1alWVdRXXKCIiQgAgvP/++2rrX3rpJUEikQixsbGqZTVdi9qex4gRIwR3d/ca6yVqzniLjagFkslkGDt2LKKionD79m3V8m3btsHW1hYDBw4EAPz000/o27cvWrVqhYyMDNUnICAACoUCx44dU9vv6NGjYW1tXasaLly4gJiYGIwfPx6ZmZmqfefn52PgwIE4duyY2m08AJg5c6ba97feegsAsG/fPrXl/fr1g5ubW5VjGhgYqP7+8OFDZGdno2/fvjh37twT6xUEAb/88guCgoIgCILa9QgMDER2dvZj92Nubg6gbIxX5fOq8Msvv8DKykp1Xv8kkUhU5yqTyTB79my19W+//TYEQcDvv/+utrzytajLeZibm+PevXs4e/bsE68PUXPDgETUQlUMwq4YT3Lv3j0cP34cY8eOhUwmAwDExMRg//79sLa2VvsEBAQAQJUxTM7OzrU+fkxMDABg4sSJVfb/1VdfoaioCNnZ2WrbuLq6qn13cXGBVCpVC3mPq2PPnj3o06cP9PX1YWFhAWtra6xfv77KcaqTnp6OrKwsfPnll1XqnTx5MoCq1+OfxowZAz8/P0ydOhW2trYYO3YsfvzxR7WwFBcXh06dOkFHp+bRD3fu3IGDgwNMTEzUlnfp0kW1/p8qX4u6nMe7774LY2NjeHl5wdXVFTNnzqxxfBhRc8MxSEQtlKenJzp37owffvgBCxYswA8//ABBENSeXlMqlRg0aBD+/e9/V7uPjh07qn3/Zw/Nk1QEg48++gg9evSoto2xsfFj91HRq1JZdXUcP34cw4cPx7PPPot169bB3t4eurq62LJlS60GHVfU++qrr2LixInVtunWrVuN2xsYGODYsWM4fPgw9u7di/3792PHjh0YMGAA/vjjD1UobWiVr0VdzqNLly64efMm9uzZg/379+OXX37BunXrsHjxYixdurRR6iXSFAxIRC1YcHAwwsLCcOnSJWzbtg2urq6qp86Ash6avLw8VY9RfdQUYioGPpuamtZ6/zExMWo9IrGxsVAqlapB2I/zyy+/QF9fHwcOHIBcLlct37JlS61qtra2homJCRQKRb2vh1QqxcCBAzFw4ECsWrUK4eHhWLhwIQ4fPoyAgAC4uLjg9OnTKCkpga6ubrX7aNeuHQ4dOoTc3Fy1XqQbN26o1j9OXc/DyMgIY8aMwZgxY1BcXIwXX3wRK1asQGhoKPT19etw9kTahbfYiFqwit6ixYsX48KFC1XmPnrllVcQFRWFAwcOVNk2KysLpaWlTzyGkZGRqv0/eXp6wsXFBR9//DHy8vKqbJeenl5l2dq1a9W+f/755wCAoUOHPrEOmUwGiUQChUKhWnb79u1qJ4Q0MjKqUq9MJsPo0aPxyy+/4MqVK7Wq958ePHhQZVlFz1lRURGAsjFcGRkZ+OKLL6q0Fcof4X/++eehUCiqtFm9ejUkEskTr0VdzqPyTOp6enpwc3ODIAgoKSl57HGItB17kIhaMGdnZ/j6+mLXrl0AUCUgvfPOO9i9ezdeeOEFTJo0CZ6ensjPz8fly5fx888/4/bt27CysnrsMVxcXGBubo4NGzbAxMQERkZG8Pb2hrOzM7766isMHToU7u7umDx5Mlq3bo2kpCQcPnwYpqam+O2339T2lZCQgOHDh2PIkCGIiorCd999h/Hjx6N79+5PPNdhw4Zh1apVGDJkCMaPH4+0tDSsXbsWHTp0wKVLl9Taenp64tChQ1i1ahUcHBzg7OwMb29v/Oc//8Hhw4fh7e2NadOmwc3NDQ8ePMC5c+dw6NChakNQhWXLluHYsWMYNmwY2rVrh7S0NKxbtw5t2rSBv78/AGDChAn45ptvEBISgjNnzqBv377Iz8/HoUOH8Oabb2LEiBEICgrCc889h4ULF+L27dvo3r07/vjjD+zatQtz585V9cw9Tm3PY/DgwbCzs4Ofnx9sbW1x/fp1fPHFFxg2bFiVMVBEzY54D9ARkSZYu3atAEDw8vKqdn1ubq4QGhoqdOjQQdDT0xOsrKwEX19f4eOPPxaKi4sFQfjfY/4fffRRtfvYtWuX4ObmJujo6FR55P/8+fPCiy++KFhaWgpyuVxo166d8MorrwiRkZGqNhWP+V+7dk146aWXBBMTE6FVq1bCrFmzhEePHqkdC4Awc+bMauvYtGmT4OrqKsjlcqFz587Cli1bVPv+pxs3bgjPPvusYGBgIABQe+Q/NTVVmDlzpuDo6Cjo6uoKdnZ2wsCBA4Uvv/yyxmssCIIQGRkpjBgxQnBwcBD09PQEBwcHYdy4cVWmUCgoKBAWLlwoODs7q/b/0ksvCXFxcao2ubm5wrx58wQHBwdBV1dXcHV1FT766CO16RKedC1qcx7//e9/hWeffVb1n42Li4vwzjvvCNnZ2Y89V6LmQCIIlaZeJSIiImrhOAaJiIiIqBIGJCIiIqJKGJCIiIiIKmFAIiIiIqqEAYmIiIioEgYkIiIioko4UWQ9KZVKJCcnw8TEpMZXKRAREZFmEQQBubm5cHBwgFRacz8RA1I9JScnw9HRUewyiIiIqB7u3r2LNm3a1LieAameKqbZv3v3LkxNTUWuhoiIiGojJycHjo6OT3xdDgNSPVXcVjM1NWVAIiIi0jJPGh7DQdpERERElTAgEREREVXCgERERERUCQMSERERUSUMSERERESVMCARERERVcKARERERFQJAxIRERFRJQxIRERERJUwIBERERFVwoBEREREVAkDEhEREVElDEgaJiW7EHcfFECpFMQuhYiIqMXSEbsAUrflRAL+eyweBroydLAxhquNMVxtTcr/NEabVoaQSR//BmIiIiJ6OgxIGqagWAE9mRSPShS4nJSNy0nZauvlOlK4WJeFpY62JqoQ1dbCEDoydggSERE1BIkgCLyXUw85OTkwMzNDdnY2TE1NG3TfpQol7jwoQExqHmLTchGTloeY1DzEpeehqFRZ7TZ6MinaWxuhg01ZcKrocWpnaQRdBiciIiIAtf/9Zg+SBtKRlfUSuVgbA7BTLVcoBdx7WIBbqXmISctFbGoeYtLyEJuWh0clCtxIycWNlFwA9/+3L6kEzlZGcLU1hquNiepPJytDyHVkTX9yREREWoA9SPXUmD1IdaVUCkjKeoSYtFzElIemmLQ8xKbmIr9YUe02MqkE7SwN4Wrzz1t1JmhvbQR9XQYnIiJqnmr7+82AVE+aFJBqIggCkrMLEZOai9jy23QVISq3qLTabaQSoK2FITrYmKCjrbGqx8nF2hgGegxORESk3RiQGpk2BKSaCIKA1JwitR6n2LRc3ErNQ/ajkmq3kUiANq0M0NHGBB1sjdHRxgRezhZwtDBs4uqJiIjqjwGpkWlzQKqJIAjIyCtGTGr5wPDyABWblofM/OJqt2ltbgBfF0v4drCET3sr2JnpN3HVREREtceA1MiaY0B6nMy8IrWxTVeSc3DxbhZKK01o2d7KCH1cLOHrYok+7S1hZSwXqWIiIqKqGJAaWUsLSNXJLyrF33ce4mRcBk7FZeJyUjYqTwDeydYEPi6W8HGxRB9nS5gZ6opTLBERERiQGh0DUlXZj0pwJuEBouIycTIuo3zKgf+RSICuDmaqwNTbyQLGcs40QURETYcBqZExID1ZZl4RTic8wMm4DETFZSIuPV9tvUwqQfc2ZvB1sYKPiyU827XiFANERNSoGJAaGQNS3aXmFOJUfCZOxmbiZHwG7j54pLZeTyZFz7bm8HWxgm8HS3RvYw49Hc4CTkREDYcBqZExID29uw8KEBWfqboll5pTpLbeQFeGXk6t4ONiCV8XK3R1MOX75oiI6KkwIDUyBqSGJQgCEjLyERWfiZNxmTgVl1llagETuQ68nC1UY5i62JlCKpWIVDEREWkjBqRGxoDUuARBwK3UPNX4pVPxmcgpVJ/9u5WhLvq0tyzvYbKEi7UxJBIGJiIiqhkDUiNjQGpaCqWAa8k5iIrPwMm4TJxJeICCSu+ZszaRw6d9WVjycbFEWwtDBiYiIlLDgNTIGJDEVaJQ4tK9bETFlQWm6DsPUVSqVGvjYKYPjzZmcHcwg7uDKdwdzGBrKmdoIiJqwRiQGhkDkmYpLFHgfGJW+aDvDJxPrDrLNwBYGunBrTwslf1pCmdLI45lIiJqIRiQGhkDkmYrKC7FhbtZuJacg6vJObianI3YtLwqM30DgKGeDF3sTct7mcrCk6utMeQ6nJOJiKi5YUBqZAxI2qewRIEbKbm4mpyNq8k5uJacgxspOSgsUVZpqyOVoION8T9uz5nCzcEUJvp8VQoRkTZjQGpkDEjNQ6lCiYSMfFUv09XyHqfsRyXVtm9naajqZXJzMIW7vSlsTPWbuGoiIqovBqRGxoDUfAmCgOTsQlxN+l9gupacjeTswmrbWxnL1W7PuTuYoq2FIcc1ERFpIAakRsaA1PI8yC8uH9OUjWv3y4JTfHr145qM5Tpwsy+7LVcxGNzVxoSvTiEiEhkDUiNjQCKgbDB42bimsl6mq8k5uJGSi+LSquOa9GRSuNoaq/U0dbY3hbFcR4TKiYhaJgakRsaARDUpUSgRn57/jzFNZX/mVpoJvIKZgS7sTPVhYyqHnak+bE31YWumX/73smWWxnLIeMuOiOipaVVAWrt2LT766COkpKSge/fu+Pzzz+Hl5VVj+zVr1mD9+vVITEyElZUVXnrpJaxcuRL6+mWDZZ2cnHDnzp0q27355ptYu3YtAKCwsBBvv/02tm/fjqKiIgQGBmLdunWwtbWtVc0MSFQXgiDg3sNHak/QXU3OQUpO9eOaKpNJJbA2lpcHJ3lZiDLVVwUqOzM5bEz1YSLX4USYRESPoTUBaceOHZgwYQI2bNgAb29vrFmzBj/99BNu3rwJGxubKu23bduG119/HZs3b4avry9u3bqFSZMmYezYsVi1ahUAID09HQrF/15DceXKFQwaNAiHDx9G//79AQAzZszA3r178fXXX8PMzAyzZs2CVCrFiRMnalU3AxI1hOxHJUjNKURqTiFSsguRlluElOxCpOQUIi2n7M/03KJqxzlVx1BPpt4bZaYPWxN92JmV90yZymFjos+xUETUYmlNQPL29kbv3r3xxRdfAACUSiUcHR3x1ltvYf78+VXaz5o1C9evX0dkZKRq2dtvv43Tp0/jr7/+qvYYc+fOxZ49exATEwOJRILs7GxYW1tj27ZteOmllwAAN27cQJcuXRAVFYU+ffo8sW4GJGoqpQolMvOLqwSnlOwipOWWBavUnMIqL/N9HEsjvfKep7LQ9M/eqIrlrQx12RtFRM1ObX+/RR0dWlxcjOjoaISGhqqWSaVSBAQEICoqqtptfH198d133+HMmTPw8vJCfHw89u3bh9dee63GY3z33XcICQlR/WMfHR2NkpISBAQEqNp17twZbdu2rXVAImoqOjKpKrh0f0y7guJSpOYUqfVIVXxPKV+WllOE4vLAlZlfjGv3c2rcn55MChtTOVqbG2CQmy2Gd3fgnE9E1GKIGpAyMjKgUCiqjPuxtbXFjRs3qt1m/PjxyMjIgL+/PwRBQGlpKd544w0sWLCg2vYRERHIysrCpEmTVMtSUlKgp6cHc3PzKsdNSUmpdj9FRUUoKipSfc/JqfmHhUgMhno6cLbSgbOVUY1tBEHAg/xi9SBV/mdqTpGqNyozvxjFCiXuPXyEew8f4XTCA4Tvuw6/DlYY2aM1Arva8ek7ImrWtO5fuCNHjiA8PBzr1q2Dt7c3YmNjMWfOHCxfvhxhYWFV2m/atAlDhw6Fg4PDUx135cqVWLp06VPtg0hsEokElsZyWBrL4eZQc9dycakSabllYelqcg52XUhG9J2HOB6TgeMxGVgYcRmD3ewwqmdr+LtaQVfGMU1E1LyIGpCsrKwgk8mQmpqqtjw1NRV2dnbVbhMWFobXXnsNU6dOBQB4eHggPz8f06dPx8KFCyGV/u8f6jt37uDQoUP49ddf1fZhZ2eH4uJiZGVlqfUiPe64oaGhCAkJUX3PycmBo6Njnc6XSFvo6UjRppUh2rQyhGc7C0zwccKdzHzsupCMiPNJiM/Ix+6Lydh9MRmWRnoI6u6AkT1bo3sbM45bIqJmQdT/26enpwdPT0+1AddKpRKRkZHw8fGpdpuCggK1EAQAMlnZW9crjzffsmULbGxsMGzYMLXlnp6e0NXVVTvuzZs3kZiYWONx5XI5TE1N1T5ELUk7SyPMHuiKyLf7YddMP0zydYKlkR4y84vx9cnbGLn2BAZ8chSfHorBncx8scslInoqot9iCwkJwcSJE9GrVy94eXlhzZo1yM/Px+TJkwEAEyZMQOvWrbFy5UoAQFBQEFatWoWePXuqbrGFhYUhKChIFZSAsqC1ZcsWTJw4ETo66qdpZmaGKVOmICQkBBYWFjA1NcVbb70FHx8fDtAmegKJRILujubo7miOhcO64K/YDEScT8KBqylIyMjH6kO3sPrQLTzT1hyjerbGsG4OsDDSE7tsIqI6ET0gjRkzBunp6Vi8eDFSUlLQo0cP7N+/XzVwOzExUa3HaNGiRZBIJFi0aBGSkpJgbW2NoKAgrFixQm2/hw4dQmJiIl5//fVqj7t69WpIpVKMHj1abaJIIqo9XZkUz3WywXOdbJBXVIo/rqZg5/kknIjNwLnELJxLzMLS366hfydrjOzZGgFdbKGvK3vyjomIRCb6PEjaivMgEdUsLacQuy8mI+JCEq4k/e+JT2O5DoZ2LRvc7d3ekq9PIaImpzUTRWorBiSi2olJzUXEhSREnE9GUtYj1XI7U32M6FE2uLuLPf83RERNgwGpkTEgEdWNUing7zsPsfN8EvZeSlab+buznQlG9myNET0cYG9mIGKVRNTcMSA1MgYkovorKlXg8I10RJxPwp830lCsUAIAJBKgj7MlRvVsjSEedjDV1xW5UiJqbhiQGhkDElHDyC4owb4r97HzfBLOJDxQLdfTkWJQF1uM7Nka/Tpa8wW7RNQgGJAaGQMSUcO797AAuy4kY+f5JMSm5amWmxvq4oVu9hjVszWeaduKk1ESUb0xIDUyBiSixiMIAq4m5yDifBJ2XUxGeu7/3oPoaGGAUT1aY0TP1nCxNhaxSiLSRgxIjYwBiahpKJQCTsZlYOf5JBy4koL8YoVqXfc2ZhjZszWGedjD2kTOniUieiIGpEbGgETU9AqKS3HwWioizifhWEwGFEr1f74MdGUw1JPBQK/8T92Kv+vAoPy7ar2uDgz0pDDQ04Fh+XJ9PVn538vbl3830JNBriNlACNqBhiQGhkDEpG4MvKKsOdiMnZeSMbFu1mNfjypBOWBSweG5QFMvzxYlYUuHRjoSlXhqiJYVYQ1SyM5fF0soSPjYHMiMTEgNTIGJCLNUVBciryiUjwqVqCgWIFHJYpKfy9FQfn3whKF6u+PikvxqKTi75XXl6KwRKmagqAhdLE3RfiorujZtlWD7ZOI6qa2v9+iv4uNiOhpGerpwFCvcf45K1EoVYHrf6GrVBWq/hmwyv5eWk0QU+DSvSxcv5+DF9efxHivtvh3YGeYGXKeJyJNxYBERPQYujIpdGXSp560MiOvCCv33cAv5+7h+9OJOHA1BQuHdcHIHq05tolIA/FmOBFRE7AyluOTV7rjh2l94GJthIy8YszbcRHjN55Wm/OJiDQDAxIRURPycbHE73OexTuBnSDXkSIqPhNDPz2GT/64icISxZN3QERNggGJiKiJ6elIMfO5Djg4rx+e62SNEoWAz/+MxeDVx3DkZprY5RERGJCIiETT1tIQmyf1xoZXn4GdqT4SHxRg0pazePP7aKRkF4pdHlGLxoBERCQiiUSCIV3tcejtfpjq7wyZVIJ9l1Mw8JMj2PxXAkobcJoBIqo9zoNUT5wHiYgaw9XkbCzceQUXyie/dLM3RfiLHujhaC5qXUTNRW1/v9mDRESkQdwdzPDrDF+sGNUVpvo6uHY/B6PWncCiiMvIflQidnlELQYDEhGRhpFKJQj2boc//9UfL/ZsDUEAvjuViIGfHEHE+SSw45+o8TEgERFpKCtjOVaN6YFt07zRvnzupLk7LiD4q9OIS+fcSUSNiQGJiEjD+bpY4fc5ffGvwR0h15HiZFwmhq45jlWcO4mo0TAgERFpAbmODLMGuOLgvH7o38kaxQolPvszFoFrjuHorXSxyyNqdhiQiIi0SFtLQ2yZ1Bvrg5+BrakcdzILMHHzGczcdg6pOZw7iaihMCAREWkZiUSCoR72iHy7P173c4ZUAuy9dB8DPzmKLScSoFByEDfR0+I8SPXEeZCISFNcScrGwogruFg+d1LX1qZYMdID3Tl3ElEVnAeJiKiF6Nq6bO6k90eWzZ10JSkHI9edQFjEFc6dRFRPDEhERM2ATCrBq33aIfLt/hhVPnfSt6fuYOAnR7HrAudOIqorBiQiombE2kSO1WN6YNvUirmTijBn+wW8uuk04jl3ElGtMSARETVDvh3K5k56e1BH6OlIcSI2E0PWHMeqg7c4dxJRLTAgERE1U3IdGd4a6IqD855Fv47lcydFxmDImmM4xrmTiB6LAYmIqJlrZ2mEryf3xtrxZXMn3c4swITNZzCLcycR1YgBiYioBZBIJBjWzR6HQvphsp8TpBJgz6X7CPjkKLaevM25k4gq4TxI9cR5kIhIm11JysbCnZdx8V42AMCjtRlWjOqKbm3MxS2MqJFxHiQiIqpR19Zm+PVNPywf2RUm+jq4nJSNkWtP4OC1VLFLI9IIDEhERC2UTCrBa33aIfLtfgh0t4VSAMIiriCvqFTs0ohEx4BERNTC2Zjo49OxPdHWwhApOYX49NAtsUsiEh0DEhERQV9XhqUj3AEAm0/cxvX7OSJXRCQuBiQiIgIAPNfJBkO72kGhFLAo4gqUfLKNWjAGJCIiUlkc5AYjPRmi7zzEz9H3xC6HSDQMSEREpGJvZoB5gzoCAFb+fh0P84tFrohIHAxIRESkZqKvEzrbmeBhQQn+8/sNscshEgUDEhERqdGVSfH+yK4AgB1/30X0nQciV0TU9BiQiIioil5OFhjTyxEAsHDnFZQqlCJXRNS0GJCIiKha7w7tDHNDXdxIycXXJ2+LXQ5Rk2JAIiKialkY6SF0aGcAwOqDt3A/+5HIFRE1HQYkIiKq0cuejvBs1wr5xQos33NN7HKImgwDEhER1UgqleD9kV0hk0qw73IKjtxME7skoibBgERERI/Vxd4Uk32dAACLd11FYYlC3IKImgADEhERPdHcQR1hZ6qPxAcFWHckTuxyiBodAxIRET2RsVwHi4PcAAAbjsQhPj1P5IqIGhcDEhER1crQrnbo19EaxQolFu+6CkHgy2yp+WJAIiKiWpFIJFg2wh16OlL8FZuBPZfui10SUaNhQCIiolprZ2mEmf07AACW77mG3MISkSsiahwMSEREVCdv9G8PZysjpOUW4ZM/boldDlGjYEAiIqI6kevIsGyEOwDgm6jbuJKULXJFRA2PAYmIiOqsr6s1XuhmD6UALIq4AqWSA7apeWFAIiKiegl7wQ3Gch1cuJuFH84mil0OUYNiQCIionqxNdXH24M7AgA+3H8TGXlFIldE1HAYkIiIqN5e69MObvamyH5UgpX7bohdDlGDYUAiIqJ605FJsWJUV0gkwC/n7uF0fKbYJRE1CAYkIiJ6Kj3btsI4r7YAygZslyiUIldE9PQYkIiI6Kn9O7ATLI30EJOWh01/JYhdDtFTY0AiIqKnZm6oh9DnuwAAPj0Ug3sPC0SuiOjpMCAREVGDGP1Ma3g5WeBRiQLLfrsmdjlET0X0gLR27Vo4OTlBX18f3t7eOHPmzGPbr1mzBp06dYKBgQEcHR0xb948FBYWqrVJSkrCq6++CktLSxgYGMDDwwN///23av2kSZMgkUjUPkOGDGmU8yMiaikkEgneH9UVOlIJ/riWisjrqWKXRFRvogakHTt2ICQkBEuWLMG5c+fQvXt3BAYGIi0trdr227Ztw/z587FkyRJcv34dmzZtwo4dO7BgwQJVm4cPH8LPzw+6urr4/fffce3aNXzyySdo1aqV2r6GDBmC+/fvqz4//PBDo54rEVFL0NHWBFP6OgMAluy+ikfFCpErIqofHTEPvmrVKkybNg2TJ08GAGzYsAF79+7F5s2bMX/+/CrtT548CT8/P4wfPx4A4OTkhHHjxuH06dOqNh988AEcHR2xZcsW1TJnZ+cq+5LL5bCzs2voUyIiavHmDHTFbxeSce/hI3xxOAbvBHYWuySiOhOtB6m4uBjR0dEICAj4XzFSKQICAhAVFVXtNr6+voiOjlbdhouPj8e+ffvw/PPPq9rs3r0bvXr1wssvvwwbGxv07NkTGzdurLKvI0eOwMbGBp06dcKMGTOQmfn4uTuKioqQk5Oj9iEioqoM9XSwZHjZy2y/PBaP2LRckSsiqjvRAlJGRgYUCgVsbW3Vltva2iIlJaXabcaPH49ly5bB398furq6cHFxQf/+/dVuscXHx2P9+vVwdXXFgQMHMGPGDMyePRtbt25VtRkyZAi++eYbREZG4oMPPsDRo0cxdOhQKBQ1dwWvXLkSZmZmqo+jo+NTXgEiouZrsJstBna2QYlCwKKIKxAEvsyWtIvog7Tr4siRIwgPD8e6detw7tw5/Prrr9i7dy+WL1+uaqNUKvHMM88gPDwcPXv2xPTp0zFt2jRs2LBB1Wbs2LEYPnw4PDw8MHLkSOzZswdnz57FkSNHajx2aGgosrOzVZ+7d+825qkSEWk1iUSC94a7Q19XilPxD7DrQrLYJRHViWgBycrKCjKZDKmp6k85pKam1jg2KCwsDK+99hqmTp0KDw8PjBo1CuHh4Vi5ciWUyrKZW+3t7eHm5qa2XZcuXZCYWPObptu3bw8rKyvExsbW2EYul8PU1FTtQ0RENXO0MMRbA1wBAO/vvYbsRyUiV0RUe6IFJD09PXh6eiIyMlK1TKlUIjIyEj4+PtVuU1BQAKlUvWSZTAYAqu5bPz8/3Lx5U63NrVu30K5duxpruXfvHjIzM2Fvb1+vcyEioupN69seLtZGyMgrxscHbj55AyINIeottpCQEGzcuBFbt27F9evXMWPGDOTn56ueapswYQJCQ0NV7YOCgrB+/Xps374dCQkJOHjwIMLCwhAUFKQKSvPmzcOpU6cQHh6O2NhYbNu2DV9++SVmzpwJAMjLy8M777yDU6dO4fbt24iMjMSIESPQoUMHBAYGNv1FICJqxvR0pFg+sisA4LvTd3DpXpa4BRHVkqiP+Y8ZMwbp6elYvHgxUlJS0KNHD+zfv181cDsxMVGtx2jRokWQSCRYtGgRkpKSYG1tjaCgIKxYsULVpnfv3ti5cydCQ0OxbNkyODs7Y82aNQgODgZQ1uN06dIlbN26FVlZWXBwcMDgwYOxfPlyyOXypr0AREQtgK+LFUb2cEDEhWQs3HkFETP9IJNKxC6L6LEkAh8tqJecnByYmZkhOzub45GIiJ4gPbcIAz45gtzCUiwb4Y4JPk5il0QtVG1/v7XqKTYiItJO1iZy/DuwEwDgowM3kZZb+IQtiMTFgERERE1ivHc7dGtjhtzCUoTvvS52OUSPxYBERERNQiaV4P2RXSGRABEXknEyNkPskohqxIBERERNplsbc7zWp2zalUW7rqC4VClyRUTVY0AiIqIm9fbgTrAyliM+PR8bj8eLXQ5RtRiQiIioSZkZ6GLRsC4AgM8iY3D3QYHIFRFVxYBERERNbkQPB/i0t0RRqRJLdl/ly2xJ4zAgERFRk5NIJFg+sit0ZRL8eSMNf1xLffJGRE2IAYmIiETRwcYY059tDwBYuvsq8otKRa6I6H8YkIiISDSznnNFm1YGSM4uxGd/xohdDpEKAxIREYnGQE+GpcPdAQCbjifgZkquyBURlWFAIiIiUQ3sYovBbrYoVQoIi7jCAdukERiQiIhIdEuGu8NAV4Yztx/gl3NJYpdDxIBERETia21ugDkBrgCA8H3XkVVQLHJF1NIxIBERkUaY4u+MjrbGeJBfjA/23xS7HGrhGJCIiEgj6MqkeH+kBwBg+9lEnEt8KHJF1JIxIBERkcbwcrbA6GfaQBCARTuvoFTBl9mSOBiQiIhIoyx4vjPMDHRx7X4Ovom6I3Y51EIxIBERkUaxNJbj3SGdAQCrDt5Cak6hyBVRS8SAREREGmdsb0f0cDRHXlEplu+5JnY51AIxIBERkcaRSiV4f2RXSCXAnkv3cTwmXeySqIVhQCIiIo3UtbUZJvo6AQDCIq6gsEQhbkHUojAgERGRxgoZ1BE2JnLczizAf4/Gi10OtSAMSEREpLFM9HUR9oIbAGDtkVjczsgXuSJqKRiQiIhIo73QzR59Xa1QXKrE4t1X+TJbahIMSEREpNEkEgmWDneHnkyKY7fSsWDnFWQ/KhG7LGrmGJCIiEjjtbc2xr+HdAIA/HAmEQGrjmL3xWT2JlGjYUAiIiKtMLVve/wwrQ/aWxshPbcIs384jwmbz+BOJsclUcNjQCIiIq3h42KJ3+f0RcigjtDTkeJ4TAYGrz6GtYdjUVzK97ZRw2FAIiIirSLXkWH2QFccmPss/DpYoqhUiY8O3MSwz47j7O0HYpdHzQQDEhERaSVnKyN8N8Uba8b0gJWxHmLS8vDyhii8+/MlZBUUi10eaTkGJCIi0loSiQQje7bGoZB+GOflCADY8fddDPjkKH6JvsdB3FRvDEhERKT1zA31sPLFbvj5DR90tDXGg/xivP3TRQR/dRrx6Xlil0daiAGJiIiajV5OFtjzVl/8e0gn6OtKcTIuE0PWHMeaQ7dQVMp3uVHtMSAREVGzoqcjxZv9O+DgvH7o19EaxQol1hyKwdA1x3EyLkPs8khLMCAREVGz5GhhiK8n98YX43vC2kSO+Ix8jN94GiE/XkBmXpHY5ZGGY0AiIqJmSyKR4IVuDoh8ux8m+LSDRAL8ei4JA1cdxY6ziVAqOYibqicROMS/XnJycmBmZobs7GyYmpqKXQ4REdXChbtZCP31Mq7fzwEA9HZqhfBRHnC1NRG5Mmoqtf39Zg8SERG1GD0czfHbLD8sGtYFBroynL39EM9/dhwfHbiBwhIO4qb/eaqAVFxcjJs3b6K0tLSh6iEiImpUOjIppvZtj0Nv90NAF1uUKASsPRyHwauP4eitdLHLIw1Rr4BUUFCAKVOmwNDQEO7u7khMTAQAvPXWW/jPf/7ToAUSERE1htbmBvhqYi/89zVP2JnqI/FBASZuPoO3fjiPtNxCscsjkdUrIIWGhuLixYs4cuQI9PX1VcsDAgKwY8eOBiuOiIiosQW62+HQ2/3wup8zpBLgt4vJGPjJUXx76g4Hcbdg9QpIERER+OKLL+Dv7w+JRKJa7u7ujri4uAYrjoiIqCkYy3WwOMgNu2f5o1sbM+QWliIs4gpGbzipGtBNLUu9AlJ6ejpsbGyqLM/Pz1cLTERERNqka2sz7HzTD+8FucFYroPziVl44fO/sHLfdRQUc7xtS1KvgNSrVy/s3btX9b0iFH311Vfw8fFpmMqIiIhEIJNKMMnPGYdC+uF5DzsolAL+eyweg1YdQ+T1VLHLoyaiU5+NwsPDMXToUFy7dg2lpaX49NNPce3aNZw8eRJHjx5t6BqJiIianJ2ZPtYFe+LPG6kIi7iKpKxHmLL1bwxxt8N7w91hZ6b/5J2Q1qpXD5K/vz8uXryI0tJSeHh44I8//oCNjQ2ioqLg6enZ0DUSERGJZkBnWxwMeRb/1689ZFIJ9l9NQcCqo9hyIgEKDuJutuo8k3ZJSQn+7//+D2FhYXB2dm6sujQeZ9ImImp5rt/PwYKdl3E+MQsA4NHaDOGjPODRxkzcwqjWGm0mbV1dXfzyyy9PVRwREZE26mJvil/e8MWKUV1hoq+Dy0nZGLH2Lyz97SryijiIuzmp1y22kSNHIiIiooFLISIi0nxSqQTB3u0Q+XY/DO/uAKUAbDlxGwGfHMX+K/fBV5w2D/UapO3q6oply5bhxIkT8PT0hJGRkdr62bNnN0hxREREmsrGRB+fjeuJlzzbYFHEFSQ+KMAb351DQBcbrBrTA6b6umKXSE+hzmOQADx27JFEIkF8fPxTFaUNOAaJiIgqFJYo8MWfsfjvsTiUKARM9nPCkiB3scuiatT297teAYkYkIiIqKrDN9Iw+euz0NOR4vi/n4OtKacC0DSNNki7MkEQeL+ViIgIQP9O1vBs1wrFpUqsP8JXb2mzegekb775Bh4eHjAwMICBgQG6deuGb7/9tiFrIyIi0ioSiQTzAjoCALadSURKdqHIFVF91SsgrVq1CjNmzMDzzz+PH3/8ET/++COGDBmCN954A6tXr27oGomIiLSGXwdL9HYq60XacJS9SNqq3oO0ly5digkTJqgt37p1K9577z0kJCQ0WIGaimOQiIioJidiMxD81Wno6Uhx7J3n+FoSDdKoY5Du378PX1/fKst9fX1x//79+uySiIio2fB1sYSXk0X5WKRYscuheqhXQOrQoQN+/PHHKst37NgBV1fXpy6KiIhIm0kkEswNKPs9/OHMXdzPfiRyRVRX9ZoocunSpRgzZgyOHTsGPz8/AMCJEycQGRlZbXAiIiJqaXxcLOHlbIEzCQ+w/kgclo3oKnZJVAf16kEaPXo0Tp8+DSsrK0RERCAiIgJWVlY4c+YMRo0a1dA1EhERaZ1/9iJtP3MXyVnsRdImnCiynjhIm4iIamPMf6NwOuEBXuvTDstHshdJbI06SHvfvn04cOBAleUHDhzA77//Xp9dEhERNUtzy+dF2nGWvUjapF4Baf78+VAoFFWWC4KA+fPnP3VRREREzYWPiyX6tLdAsUKJdXyiTWvUKyDFxMTAzc2tyvLOnTsjNrZu/+GvXbsWTk5O0NfXh7e3N86cOfPY9mvWrEGnTp1gYGAAR0dHzJs3D4WF6jOVJiUl4dVXX4WlpSUMDAzg4eGBv//+W7VeEAQsXrwY9vb2MDAwQEBAAGJiYupUNxERUW39sxcpib1IWqFeAcnMzAzx8fFVlsfGxsLIyKjW+9mxYwdCQkKwZMkSnDt3Dt27d0dgYCDS0tKqbb9t2zbMnz8fS5YswfXr17Fp0ybs2LEDCxYsULV5+PAh/Pz8oKuri99//x3Xrl3DJ598glatWqnafPjhh/jss8+wYcMGnD59GkZGRggMDKwStIiIiBpCn/aW8GlviRKFgHWH2YukFYR6mD59uuDh4SHExsaqlsXExAjdunUTpkyZUuv9eHl5CTNnzlR9VygUgoODg7By5cpq28+cOVMYMGCA2rKQkBDBz89P9f3dd98V/P39azymUqkU7OzshI8++ki1LCsrS5DL5cIPP/xQ69qzs7MFAEJ2dnattyEiopbrVFyG0O7dPUKHBXuFuw/yxS6nxart73e9epA+/PBDGBkZoXPnznB2doazszM6d+4MS0tLfPzxx7XaR3FxMaKjoxEQEKBaJpVKERAQgKioqGq38fX1RXR0tOo2XHx8PPbt24fnn39e1Wb37t3o1asXXn75ZdjY2KBnz57YuHGjan1CQgJSUlLUjmtmZgZvb+8aj0tERPS0vNtbwtelvBfpCN/RpunqNVGkmZkZTp48iYMHD+LixYswMDBA9+7d0bdv31rvIyMjAwqFAra2tmrLbW1tcePGjWq3GT9+PDIyMuDv7w9BEFBaWoo33nhD7RZbfHw81q9fj5CQECxYsABnz57F7Nmzoaenh4kTJyIlJUV1nMrHrVhXnaKiIhQVFam+5+Tk1PpciYiIgLKxSCfjovDT33fxZn8XtGllKHZJVIM69SBFRUVhz549AMomwBo8eDBsbGzw8ccfY/To0Zg+fbpaiGhoR44cQXh4ONatW4dz587h119/xd69e7F8+XJVG6VSiWeeeQbh4eHo2bMnpk+fjmnTpmHDhg1PdeyVK1fCzMxM9XF0dHza0yEiohbGy9kCfh3KepHWHmYvkiarU0BatmwZrl69qvp++fJlTJs2DYMGDcL8+fPx22+/YeXKlbXal5WVFWQyGVJTU9WWp6amws7OrtptwsLC8Nprr2Hq1Knw8PDAqFGjEB4ejpUrV0KpVAIA7O3tqzxh16VLFyQmJgKAat91OS4AhIaGIjs7W/W5e/durc6TiIjonyqeaPvp77u4+6BA5GqoJnUKSBcuXMDAgQNV37dv3w4vLy9s3LgRISEh+Oyzz2r9LjY9PT14enoiMjJStUypVCIyMhI+Pj7VblNQUACpVL1kmUwGoOzRfQDw8/PDzZs31drcunUL7dq1AwA4OzvDzs5O7bg5OTk4ffp0jccFALlcDlNTU7UPERFRXfV2soB/ByuUKgXOi6TB6hSQHj58qDZ25+jRoxg6dKjqe+/evevUsxISEoKNGzdi69atuH79OmbMmIH8/HxMnjwZADBhwgSEhoaq2gcFBWH9+vXYvn07EhIScPDgQYSFhSEoKEgVlObNm4dTp04hPDwcsbGx2LZtG7788kvMnDkTQPm7cebOxfvvv4/du3fj8uXLmDBhAhwcHDBy5Mi6XA4iIqJ6qXhH209/32Mvkoaq0yBtW1tbJCQkwNHREcXFxTh37hyWLl2qWp+bmwtdXd1a72/MmDFIT0/H4sWLkZKSgh49emD//v2qEJaYmKjWY7Ro0SJIJBIsWrQISUlJsLa2RlBQEFasWKFq07t3b+zcuROhoaFYtmwZnJ2dsWbNGgQHB6va/Pvf/0Z+fj6mT5+OrKws+Pv7Y//+/dDX16/L5SAiIqqXXk4W6OtqheMxGVh7OBb/Gd1N7JKokjq9rHbGjBm4ePEiPvjgA0RERGDr1q1ITk6Gnp4eAOD777/HmjVrcPbs2UYrWFPwZbVERPQ0ou88wOj1UdCRSnD4X/3haMEn2ppCo7ysdvny5dDR0UG/fv2wceNGbNy4URWOAGDz5s0YPHhw/asmIiJqITzblfUilSoFfP4nX3elaerUg1QhOzsbxsbGqnE/FR48eABjY2O10NRcsQeJiIieVvSdhxi9/iRkUgkOv90fbS3Zi9TYGqUHqYKZmVmVcAQAFhYWLSIcERERNQTPdq3wbEdrKNiLpHHqFZCIiIioYVQ80fbr+STcycwXuRqqwIBEREQkomfatkI/VS8S50XSFAxIREREIqvoRdp5Pgm3M9iLpAkYkIiIiETWs20r9O/EXiRNwoBERESkASre0RZxgb1ImoABiYiISAP0cDTHc+W9SJ/xiTbRMSARERFpCFUv0vkkJLAXSVQMSERERBqiu6M5Bna2gVIAPo9kL5KYGJCIiIg0yJzyJ9oiLiQhPj1P5GpaLgYkIiIiDdKtjTkCupT3IvGJNtEwIBEREWmYOQPLxiLtupCEOPYiiYIBiYiISMN4tDFDQBdbjkUSEQMSERGRBqqYXXv3xWTEprEXqakxIBEREWmgrq3NMMitvBeJ8yI1OQYkIiIiDTVnIHuRxMKAREREpKG6tjbDYDdbCALwGcciNSkGJCIiIg1WMS/Sb5eSEZuWK3I1LQcDEhERkQZzdzBDoHtZL9KnkZwXqakwIBEREWm4inmR9lxKRkwqe5GaAgMSERGRhnNzMMUQd7vyXiSORWoKDEhERERaoGIs0t7L93GLvUiNjgGJiIhIC3SxN8XQruxFaioMSERERFqiohdp3+X7uJnCXqTGxIBERESkJTrbmeJ5DzvOi9QEGJCIiIi0SMUTbXsv38eNlByRq2m+GJCIiIi0SCc7EwzzsAfAXqTGxIBERESkZWYPdIVEAuy7nILr99mL1BgYkIiIiLRMJzsTPM9epEbFgERERKSF5pT3Iv1+JQXXktmL1NAYkIiIiLRQR1uORWpMDEhERERaqqIXaf/VFFxNzha7nGaFAYmIiEhLudqa4IVuDgDYi9TQGJCIiIi02JyBHSCRAAeuprIXqQExIBEREWmxDjYmCCrvRfr0EHuRGgoDEhERkZabPdAVUgnwx7VUXEliL1JDYEAiIiLSch1sjDG8e3kvEsciNQgGJCIiombgrfJepIPsRWoQDEhERETNgIu1MUb0aA0AWMOxSE+NAYmIiKiZeGtAB0glwKHrqbh8j71IT4MBiYiIqJlob22MkeW9SJ9G3hK5Gu3GgERERNSMzFL1IqXh0r0sscvRWgxIREREzUh7a2OM7Fnei8SxSPXGgERERNTMvDXAFTKpBJE30nDxbpbY5WglBiQiIqJmxtnK6B9jkdiLVB8MSERERM3QWwM6QCaV4M8babjAXqQ6Y0AiIiJqhpysjDBKNRaJT7TVFQMSERFRM1XRi3T4ZjrOJz4UuxytwoBERETUTLWzNMKLPTm7dn0wIBERETVjs8p7kY7eSsc59iLVGgMSERFRM9bO0gijn2EvUl0xIBERETVzs55zhY5UgmO30hF9h71ItcGARERE1My1tTTE6GfaAADW8Im2WmFAIiIiagFmDegAHakEx2MyEH3ngdjlaDwGJCIiohbA0cIQL3lW9CJxLNKTMCARERG1EDOfYy9SbTEgERERtRD/7EXacDRe5Go0GwMSERFRCzK1b3sAwKHrqYhPzxO5Gs3FgERERNSCdLAxRkAXGwgCsOmvBLHL0VgMSERERC1MRS/Sz9H3kJlXJHI1mokBiYiIqIXxdrZAtzZmKCpV4rtTiWKXo5EYkIiIiFoYiUSCaeW9SN9E3UZhiULkijQPAxIREVELNLSrHVqbGyAzvxg7zyeJXY7G0YiAtHbtWjg5OUFfXx/e3t44c+bMY9uvWbMGnTp1goGBARwdHTFv3jwUFhaq1r/33nuQSCRqn86dO6vto3///lXavPHGG41yfkRERJpGRybF6/7OAICNx+OhVAoiV6RZRA9IO3bsQEhICJYsWYJz586he/fuCAwMRFpaWrXtt23bhvnz52PJkiW4fv06Nm3ahB07dmDBggVq7dzd3XH//n3V56+//qqyr2nTpqm1+fDDDxvlHImIiDTRmN6OMNHXQXx6Pg7frP53t6USPSCtWrUK06ZNw+TJk+Hm5oYNGzbA0NAQmzdvrrb9yZMn4efnh/Hjx8PJyQmDBw/GuHHjqvQ66ejowM7OTvWxsrKqsi9DQ0O1Nqampo1yjkRERJrIWK6D8d5tAQBfHuPEkf8kakAqLi5GdHQ0AgICVMukUikCAgIQFRVV7Ta+vr6Ijo5WBaL4+Hjs27cPzz//vFq7mJgYODg4oH379ggODkZiYtVR+t9//z2srKzQtWtXhIaGoqCgoMZai4qKkJOTo/YhIiLSdpN8naAjleB0wgNcupcldjkaQ9SAlJGRAYVCAVtbW7Xltra2SElJqXab8ePHY9myZfD394euri5cXFzQv39/tVts3t7e+Prrr7F//36sX78eCQkJ6Nu3L3Jzc9X289133+Hw4cMIDQ3Ft99+i1dffbXGWleuXAkzMzPVx9HR8SnPnoiISHz2ZgYY3t0BALDxOCeOrCD6Lba6OnLkCMLDw7Fu3TqcO3cOv/76K/bu3Yvly5er2gwdOhQvv/wyunXrhsDAQOzbtw9ZWVn48ccfVW2mT5+OwMBAeHh4IDg4GN988w127tyJuLi4ao8bGhqK7Oxs1efu3buNfq5ERERNoWLiyH2X7+Pew5rvprQkogYkKysryGQypKamqi1PTU2FnZ1dtduEhYXhtddew9SpU+Hh4YFRo0YhPDwcK1euhFKprHYbc3NzdOzYEbGxsTXW4u3tDQA1tpHL5TA1NVX7EBERNQduDqbw72AFhVLAlhO3xS5HI4gakPT09ODp6YnIyEjVMqVSicjISPj4+FS7TUFBAaRS9bJlMhkAQBCqf0QxLy8PcXFxsLe3r7GWCxcuAMBj2xARETVXU/uWPfK//Uwish+ViFyN+ES/xRYSEoKNGzdi69atuH79OmbMmIH8/HxMnjwZADBhwgSEhoaq2gcFBWH9+vXYvn07EhIScPDgQYSFhSEoKEgVlP71r3/h6NGjuH37Nk6ePIlRo0ZBJpNh3LhxAIC4uDgsX74c0dHRuH37Nnbv3o0JEybg2WefRbdu3Zr+IhAREYmsX0drdLI1QX6xAtvP8PUjOmIXMGbMGKSnp2Px4sVISUlBjx49sH//ftXA7cTERLUeo0WLFkEikWDRokVISkqCtbU1goKCsGLFClWbe/fuYdy4ccjMzIS1tTX8/f1x6tQpWFtbAyjruTp06BDWrFmD/Px8ODo6YvTo0Vi0aFHTnjwREZGGkEgkmNLXGf/++RK2nLiNyX7O0NMRvR9FNBKhpvtS9Fg5OTkwMzNDdnY2xyMREVGzUFSqgP8Hh5GeW4TVY7pjVM82YpfU4Gr7+91yoyERERGpkevIMMnXCQDw5bGEGsf2tgQMSERERKQS7N0WBroyXL+fg5NxmWKXIxoGJCIiIlIxN9TDmN5lkyG35NePMCARERGRmtf9nCGVAEdvpeNmSu6TN2iGGJCIiIhITVtLQwzpWjZh81fHW2YvEgMSERERVVHx+pFdF5KRllMocjVNjwGJiIiIqnimbSv0atcKxQoltkbdFrucJseARERERNWq6EX67lQiCopLRa6maTEgERERUbUGudnCydIQ2Y9K8NPf98Qup0kxIBEREVG1ZFIJpviXvcR2018JUChbzsSRDEhERERUo5c8HdHKUBeJDwrwx9UUsctpMgxIREREVCMDPRle7dMOAPBlC3rknwGJiIiIHmuCjxP0ZFKcT8xC9J0HYpfTJBiQiIiI6LGsTeR48ZnWAFrO60cYkIiIiOiJpvYtG6z9x7VU3M7IF7maxseARERERE/UwcYEAzrbQBDKnmhr7hiQiIiIqFYqepF+ir6Lh/nFIlfTuBiQiIiIqFZ82luia2tTFJYo8d2pO2KX06gYkIiIiKhWJBIJppW/fmRr1B0UlihErqjxMCARERFRrT3vYQ8HM31k5BVh14UksctpNAxIREREVGu6Mikm+5WNRdp4PAHKZvr6EQYkIiIiqpOxXo4wkesgNi0PR2+li11Oo2BAIiIiojox0dfFWC9HAM134kgGJCIiIqqzyX7O0JFKEBWfiStJ2WKX0+AYkIiIiKjOHMwNMKybPQBgYzN8iS0DEhEREdVLxSP/ey7dR3LWI5GraVgMSERERFQvXVubwae9JRRKAVtONK/XjzAgERERUb1Nf7asF+mHM3eRU1gicjUNhwGJiIiI6q1fR2u42hgjr6gUO87cFbucBsOARERERPUmlUpUL7HdciIBJQqlyBU1DAYkIiIieiojerSGlbEcydmF2Hf5vtjlNAgGJCIiInoq+royTPRpB6Bs4khB0P7XjzAgERER0VN7tU876OtKcTU5B1HxmWKX89QYkIiIiOiptTLSw8ueZa8f2dgMXj/CgEREREQNYoq/MyQS4PDNdMSk5opdzlNhQCIiIqIG4WRlhMFutgCAr45r98SRDEhERETUYComjtx5PglpuYUiV1N/DEhERETUYDzbWaBnW3MUK5T4NuqO2OXUGwMSERERNajp5S+x/fbUHTwqVohcTf0wIBEREVGDGuxuh7YWhsgqKMHP0dr5+hEGJCIiImpQMqkEU/zLXj+y6a8EKJTaN3EkAxIRERE1uJd7tYGZgS5uZxbg4LVUscupMwYkIiIianCGejp4tU9bAMDG49o3cSQDEhERETWKiT5O0JNJEX3nIaLvPBS7nDphQCIiIqJGYWOqjxE9HAAAX2lZLxIDEhERETWaaeUTRx64moI7mfkiV1N7DEhERETUaDramqBfR2soBWDzX9rz+hEGJCIiImpUFa8f+fHve8gqKBa5mtphQCIiIqJG5etiiS72pnhUosD3pxPFLqdWGJCIiIioUUkkEkx/tmziyK9P3kZRqea/foQBiYiIiBrdC90cYGeqj/TcIuy6kCx2OU/EgERERESNTlcmxWQ/JwBlj/wLgma/foQBiYiIiJrEWK+2MNKT4VZqHo7eShe7nMdiQCIiIqImYWagi7Fe2vH6EQYkIiIiajKT/Zwgk0pwIjYTV5OzxS6nRgxIRERE1GTatDLE8x72AICvjmvuxJEMSERERNSkpvUte+T/t4vJuJ/9SORqqseARERERE2qWxtzeDtboFQp4OsTt8Uup1oMSERERNTkKl4/su10InILS0SupioGJCIiImpyz3WyQXtrI+QWlWLH2btil1MFAxIRERE1OalUgml9y3qRtpy4jVKFUuSK1DEgERERkShG9WwNSyM9JGU9wr4rKWKXo4YBiYiIiEShryvDBB8nAMDGY5r1+hEGJCIiIhLNq33aQq4jxeWkbJxOeCB2OSoaEZDWrl0LJycn6Ovrw9vbG2fOnHls+zVr1qBTp04wMDCAo6Mj5s2bh8LCQtX69957DxKJRO3TuXNntX0UFhZi5syZsLS0hLGxMUaPHo3U1NRGOT8iIiKqnqWxHC95tgFQ1oukKUQPSDt27EBISAiWLFmCc+fOoXv37ggMDERaWlq17bdt24b58+djyZIluH79OjZt2oQdO3ZgwYIFau3c3d1x//591eevv/5SWz9v3jz89ttv+Omnn3D06FEkJyfjxRdfbLTzJCIioupN8XeGRAJE3khDbFqe2OUA0ICAtGrVKkybNg2TJ0+Gm5sbNmzYAENDQ2zevLna9idPnoSfnx/Gjx8PJycnDB48GOPGjavS66SjowM7OzvVx8rKSrUuOzsbmzZtwqpVqzBgwAB4enpiy5YtOHnyJE6dOtWo50tERETq2lsbI6CLLQBg01+a0YskakAqLi5GdHQ0AgICVMukUikCAgIQFRVV7Ta+vr6Ijo5WBaL4+Hjs27cPzz//vFq7mJgYODg4oH379ggODkZiYqJqXXR0NEpKStSO27lzZ7Rt27bG4xYVFSEnJ0ftQ0RERA2jYuLIX84lISOvSORqRA5IGRkZUCgUsLW1VVtua2uLlJTqH/cbP348li1bBn9/f+jq6sLFxQX9+/dXu8Xm7e2Nr7/+Gvv378f69euRkJCAvn37Ijc3FwCQkpICPT09mJub1/q4K1euhJmZmerj6Oj4FGdORERE/9SrXSt0dzRHcakS30TdEbsc8W+x1dWRI0cQHh6OdevW4dy5c/j111+xd+9eLF++XNVm6NChePnll9GtWzcEBgZi3759yMrKwo8//ljv44aGhiI7O1v1uXtX82b9JCIi0lYSiQTTyyeO/O7UHTwqVohaj46YB7eysoJMJqvy9Fhqairs7Oyq3SYsLAyvvfYapk6dCgDw8PBAfn4+pk+fjoULF0IqrZr5zM3N0bFjR8TGxgIA7OzsUFxcjKysLLVepMcdVy6XQy6X1+c0iYiIqBYC3W3RppUB7j18hF/O3cOrfdqJVouoPUh6enrw9PREZGSkaplSqURkZCR8fHyq3aagoKBKCJLJZABQ4wRTeXl5iIuLg729PQDA09MTurq6ase9efMmEhMTazwuERERNS4dmRRT/J0BAJv+SoBSKd7EkaLfYgsJCcHGjRuxdetWXL9+HTNmzEB+fj4mT54MAJgwYQJCQ0NV7YOCgrB+/Xps374dCQkJOHjwIMLCwhAUFKQKSv/6179w9OhR3L59GydPnsSoUaMgk8kwbtw4AICZmRmmTJmCkJAQHD58GNHR0Zg8eTJ8fHzQp0+fpr8IREREBAB4pZcjTPV1kJCRj0PXxZufUNRbbAAwZswYpKenY/HixUhJSUGPHj2wf/9+1cDtxMREtR6jRYsWQSKRYNGiRUhKSoK1tTWCgoKwYsUKVZt79+5h3LhxyMzMhLW1Nfz9/XHq1ClYW1ur2qxevRpSqRSjR49GUVERAgMDsW7duqY7cSIiIqrCSK6D4D7t8G3UHaSL+DSbRNCkF59okZycHJiZmSE7OxumpqZil0NERNRsZBeUQCIFTPV1G3zftf39Fr0HiYiIiOifzAwbPhjVlehjkIiIiIg0DQMSERERUSUMSERERESVMCARERERVcKARERERFQJAxIRERFRJQxIRERERJUwIBERERFVwoBEREREVAkDEhEREVElDEhERERElTAgEREREVXCgERERERUiY7YBWgrQRAAADk5OSJXQkRERLVV8btd8TteEwakesrNzQUAODo6ilwJERER1VVubi7MzMxqXC8RnhShqFpKpRLJyckwMTGBRCJpsP3m5OTA0dERd+/ehampaYPtt6XhdWwYvI4Ng9exYfA6NoyWfh0FQUBubi4cHBwgldY80og9SPUklUrRpk2bRtu/qalpi/wvbkPjdWwYvI4Ng9exYfA6NoyWfB0f13NUgYO0iYiIiCphQCIiIiKqhAFJw8jlcixZsgRyuVzsUrQar2PD4HVsGLyODYPXsWHwOtYOB2kTERERVcIeJCIiIqJKGJCIiIiIKmFAIiIiIqqEAYmIiIioEgYkDbN27Vo4OTlBX18f3t7eOHPmjNglaZWVK1eid+/eMDExgY2NDUaOHImbN2+KXZbW+89//gOJRIK5c+eKXYrWSUpKwquvvgpLS0sYGBjAw8MDf//9t9hlaRWFQoGwsDA4OzvDwMAALi4uWL58+RPfpdXSHTt2DEFBQXBwcIBEIkFERITaekEQsHjxYtjb28PAwAABAQGIiYkRp1gNxICkQXbs2IGQkBAsWbIE586dQ/fu3REYGIi0tDSxS9MaR48excyZM3Hq1CkcPHgQJSUlGDx4MPLz88UuTWudPXsW//3vf9GtWzexS9E6Dx8+hJ+fH3R1dfH777/j2rVr+OSTT9CqVSuxS9MqH3zwAdavX48vvvgC169fxwcffIAPP/wQn3/+udilabT8/Hx0794da9eurXb9hx9+iM8++wwbNmzA6dOnYWRkhMDAQBQWFjZxpRpKII3h5eUlzJw5U/VdoVAIDg4OwsqVK0WsSrulpaUJAISjR4+KXYpWys3NFVxdXYWDBw8K/fr1E+bMmSN2SVrl3XffFfz9/cUuQ+sNGzZMeP3119WWvfjii0JwcLBIFWkfAMLOnTtV35VKpWBnZyd89NFHqmVZWVmCXC4XfvjhBxEq1DzsQdIQxcXFiI6ORkBAgGqZVCpFQEAAoqKiRKxMu2VnZwMALCwsRK5EO82cORPDhg1T++8l1d7u3bvRq1cvvPzyy7CxsUHPnj2xceNGscvSOr6+voiMjMStW7cAABcvXsRff/2FoUOHilyZ9kpISEBKSora/7bNzMzg7e3N35xyfFmthsjIyIBCoYCtra3acltbW9y4cUOkqrSbUqnE3Llz4efnh65du4pdjtbZvn07zp07h7Nnz4pditaKj4/H+vXrERISggULFuDs2bOYPXs29PT0MHHiRLHL0xrz589HTk4OOnfuDJlMBoVCgRUrViA4OFjs0rRWSkoKAFT7m1OxrqVjQKJma+bMmbhy5Qr++usvsUvROnfv3sWcOXNw8OBB6Ovri12O1lIqlejVqxfCw8MBAD179sSVK1ewYcMGBqQ6+PHHH/H9999j27ZtcHd3x4ULFzB37lw4ODjwOlKj4S02DWFlZQWZTIbU1FS15ampqbCzsxOpKu01a9Ys7NmzB4cPH0abNm3ELkfrREdHIy0tDc888wx0dHSgo6ODo0eP4rPPPoOOjg4UCoXYJWoFe3t7uLm5qS3r0qULEhMTRapIO73zzjuYP38+xo4dCw8PD7z22muYN28eVq5cKXZpWqvid4W/OTVjQNIQenp68PT0RGRkpGqZUqlEZGQkfHx8RKxMuwiCgFmzZmHnzp34888/4ezsLHZJWmngwIG4fPkyLly4oPr06tULwcHBuHDhAmQymdglagU/P78q00zcunUL7dq1E6ki7VRQUACpVP3nSiaTQalUilSR9nN2doadnZ3ab05OTg5Onz7N35xyvMWmQUJCQjBx4kT06tULXl5eWLNmDfLz8zF58mSxS9MaM2fOxLZt27Br1y6YmJio7qWbmZnBwMBA5Oq0h4mJSZVxW0ZGRrC0tOR4rjqYN28efH19ER4ejldeeQVnzpzBl19+iS+//FLs0rRKUFAQVqxYgbZt28Ld3R3nz5/HqlWr8Prrr4tdmkbLy8tDbGys6ntCQgIuXLgACwsLtG3bFnPnzsX7778PV1dXODs7IywsDA4ODhg5cqR4RWsSsR+jI3Wff/650LZtW0FPT0/w8vISTp06JXZJWgVAtZ8tW7aIXZrW42P+9fPbb78JXbt2FeRyudC5c2fhyy+/FLskrZOTkyPMmTNHaNu2raCvry+0b99eWLhwoVBUVCR2aRrt8OHD1f57OHHiREEQyh71DwsLE2xtbQW5XC4MHDhQuHnzprhFaxCJIHAqUiIiIqJ/4hgkIiIiokoYkIiIiIgqYUAiIiIiqoQBiYiIiKgSBiQiIiKiShiQiIiIiCphQCIiIiKqhAGJiKgeJBIJIiIixC6DiBoJAxIRaZ309HTMmDEDbdu2hVwuh52dHQIDA3HixIkmq+H+/fsYOnRokx2PiJoW38VGRFpn9OjRKC4uxtatW9G+fXukpqYiMjISmZmZTVYD33hO1LyxB4mItEpWVhaOHz+ODz74AM899xzatWsHLy8vhIaGYvjw4QDKbn+tX78eQ4cOhYGBAdq3b4+ff/5ZbT93797FK6+8AnNzc1hYWGDEiBG4ffu2WpvNmzfD3d0dcrkc9vb2mDVrlmpd5VtsT9rfkSNH4OXlBSMjI5ibm8PPzw937txp8OtDRA2DAYmItIqxsTGMjY0RERGBoqKiGtuFhYVh9OjRuHjxIoKDgzF27Fhcv34dAFBSUoLAwECYmJjg+PHjOHHiBIyNjTFkyBAUFxcDANavX4+ZM2di+vTpuHz5Mnbv3o0OHTpUe6wn7a+0tBQjR45Ev379cOnSJURFRWH69OmQSCQNf4GIqGGI/bZcIqK6+vnnn4VWrVoJ+vr6gq+vrxAaGipcvHhRtR6A8MYbb6ht4+3tLcyYMUMQBEH49ttvhU6dOglKpVK1vqioSDAwMBAOHDggCIIgODg4CAsXLqyxBgDCzp07a7W/zMxMAYBw5MiRpz53Imoa7EEiIq0zevRoJCcnY/fu3RgyZAiOHDmCZ555Bl9//bWqjY+Pj9o2Pj4+qh6kixcvIjY2FiYmJqoeKQsLCxQWFiIuLg5paWlITk7GwIEDa1XPk/ZnYWGBSZMmITAwEEFBQfj0009x//79BrseRNTwOEibiLSSvr4+Bg0ahEGDBiEsLAxTp07FkiVLMGnSpCdum5eXB09PT3z//fdV1llbW0Mqrdv/d3zS/gBgy5YtmD17Nvbv348dO3Zg0aJFOHjwIPr06VOnYxFR02APEhE1C25ubsjPz1d9P3XqlNr6U6dOoUuXLgCAZ555BjExMbCxsUGHDh3UPmZmZjAxMYGTkxMiIyNrdewn7a9Cz549ERoaipMnT6Jr167Ytm1bA5w5ETUGBiQi0iqZmZkYMGAAvvvuO1y6dAkJCQn46aef8OGHH2LEiBGqdj/99BM2b96MW7duYcmSJThz5ozqKbTg4GBYWVlhxIgROH78OBISEnDkyBHMnj0b9+7dAwC89957+OSTT/DZZ58hJiYG586dw+eff15tTU/aX0JCAkJDQxEVFYU7d+7gjz/+QExMjCqwEZHm4S02ItIqxsbG8Pb2xurVqxEXF4eSkhI4Ojpi2rRpWLBggard0qVLsX37drz55puwt7fHDz/8ADc3NwCAoaEhjh07hnfffRcvvvgicnNz0bp1awwcOBCmpqYAgIkTJ6KwsBCrV6/Gv/71L1hZWeGll16qtqYn7e/Ro0e4ceMGtm7diszMTNjb22PmzJn4v//7v8a/YERULxJBEASxiyAiakgSiQQ7d+7EyJEjxS6FiLQUb7ERERERVcKARERERFQJxyARUbPDkQNE9LTYg0RERERUCQMSERERUSUMSERERESVMCARERERVcKARERERFQJAxIRERFRJQxIRERERJUwIBERERFVwoBEREREVMn/A6dk9jZI8xToAAAAAElFTkSuQmCC\n",
      "text/plain": [
       "<Figure size 640x480 with 1 Axes>"
      ]
     },
     "metadata": {},
     "output_type": "display_data"
    }
   ],
   "source": [
    "data_plot = best_database[\"Score\"]\n",
    "data_plot = data_plot.values.tolist()\n",
    "plt.plot(data_plot)\n",
    "plt.title('Vertebrate scores')\n",
    "plt.xlabel('Species')\n",
    "plt.ylabel('Score')\n",
    "plt.show()"
   ]
  },
  {
   "cell_type": "markdown",
   "id": "6dc24ed8-576b-4d1a-99ab-104846850949",
   "metadata": {
    "tags": []
   },
   "source": [
    "### Affichage graphique type OMark"
   ]
  },
  {
   "cell_type": "code",
   "execution_count": 35,
   "id": "163142e6",
   "metadata": {
    "tags": []
   },
   "outputs": [],
   "source": [
    "def OMark_graph (data):\n",
    "    fig, axes = plt.subplots(2,1,figsize = (15,5))\n",
    "\n",
    "    data.plot.bar(y=['hog_single', 'hog_duplicated','hog_missing'], label=['Single', 'Duplicated', 'Missing'], color = ['#46bea1ff', '#cfee8eff','#ed1c5aff'], \n",
    "                    ylim=(0,100), width=1.0,  stacked=True, ax=axes[0],edgecolor='gray', lw=0.1, rasterized=True)\n",
    "\n",
    "    data.plot.bar(y=['prot_consistent_fit','prot_consistent_partial', 'prot_consistent_fragment', \n",
    "                               'prot_contamination_fit', 'prot_contamination_partial', 'prot_contamination_fragment',\n",
    "                               'prot_inconsistent_fit', 'prot_inconsistent_partial', 'prot_inconsistent_fragment',\n",
    "                               'prot_not_mapped'], label=['Consistent', '','','Contamination','','','Inconsistent','','','Unknown'],\n",
    "                    color =['#3db7e9ff','#3db7e9ff','#3db7e9ff','#e69f00ff','#e69f00ff','#e69f00ff','#8a5df1ff','#8a5df1ff','#8a5df1ff','#000000ff' ],\n",
    "                               edgecolor='white', lw=0.2, ylim=(0,100), width=1.0, stacked=True, ax=axes[1], rasterized=True)\n",
    "\n",
    "    xticks = axes[0].get_xaxis().set_visible(False)\n",
    "    xticks = axes[1].xaxis.get_major_ticks()\n",
    "    \n",
    "    axes[1].set_xticklabels(data['sc_name'].squeeze())#data['source_db'].squeeze()) \"Cricetulus\"\n",
    "\n",
    "    bars = axes[1].patches\n",
    "    hatches= ['','///','///','','///','///','','///','///','']\n",
    "    col = ['white', 'darkslategray', 'whitesmoke','white', 'darkslategray', 'whitesmoke','white', 'darkslategray', 'whitesmoke','white']\n",
    "    for index, bar  in enumerate(bars):\n",
    "        bar.set_hatch(hatches[index//len(data)])\n",
    "        bar.set_edgecolor(col[index//len(data)])\n",
    "\n",
    "    partial_patch = mpatches.Patch(facecolor='white',lw='0.1', hatch='///', edgecolor='darkslategray', label='Partial mapping', alpha=.99)\n",
    "    fragment_patch = mpatches.Patch(facecolor='darkslategray',lw='0.1', hatch='///', edgecolor='white', label='Fragments', alpha=.99)\n",
    "    custom_legend = [partial_patch,fragment_patch]\n",
    "    axes[0].legend(title='Completeness', loc='center left', bbox_to_anchor=(1, 0.5))\n",
    "    axes[1].legend(title='Consistency', handles=axes[1].get_legend_handles_labels()[0]+custom_legend, loc='center left', bbox_to_anchor=(1, 0.5))\n",
    "\n",
    "\n",
    "    axes[1].set_xlabel('Species') #Cricetulus griseus\n",
    "    axes[0].set_ylabel('Proportion of conserved HOGs')\n",
    "    axes[1].set_ylabel('Proportion of proteomes')\n",
    "    axes[1].set_ylim(axes[1].get_ylim()[::-1])\n",
    "    axes[1].tick_params(axis='x',labelsize=10)\n",
    "\n",
    "    plt.subplots_adjust(wspace=0, hspace=0.05)\n",
    "\n",
    "    plt.show()\n",
    "    \n",
    "\n"
   ]
  },
  {
   "cell_type": "code",
   "execution_count": 55,
   "id": "d5aec1a4-6e2c-4e2b-82fb-675f6a32d7e8",
   "metadata": {},
   "outputs": [
    {
     "data": {
      "image/png": "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\n",
      "text/plain": [
       "<Figure size 1500x500 with 2 Axes>"
      ]
     },
     "metadata": {},
     "output_type": "display_data"
    }
   ],
   "source": [
    "#\n",
    "result.sort_values(by = \"taxon_id\", inplace = True, ascending = True)\n",
    "best_database.sort_values(by = \"taxon_id\", inplace = True, ascending = True)\n",
    "\n",
    "#result.sort_index()\n",
    "\n",
    "#OMark_graph(result)\n",
    "\n",
    "#\n",
    "OMark_graph(best_database)\n",
    "\n",
    "#OMark_graph(cricetulus_1)\n",
    "#OMark_graph(mesocricetus)\n",
    "#OMark_graph(rattus)\n",
    "\n",
    "\n",
    "#10029 Cricetulus griseus \n",
    "#10036 Mesocricetus auratus \n",
    "#10116 Rattus norvegicus "
   ]
  },
  {
   "cell_type": "code",
   "execution_count": null,
   "id": "a8257ccc-a61b-4b85-951b-069287911e26",
   "metadata": {},
   "outputs": [],
   "source": []
  },
  {
   "cell_type": "code",
   "execution_count": null,
   "id": "a6442848-2340-4997-ae69-8339a0421fa5",
   "metadata": {},
   "outputs": [],
   "source": []
  },
  {
   "cell_type": "markdown",
   "id": "d24a9123",
   "metadata": {
    "tags": []
   },
   "source": [
    "### Set rows' index as taxonomic id "
   ]
  },
  {
   "cell_type": "code",
   "execution_count": 29,
   "id": "137bcef7",
   "metadata": {
    "scrolled": true
   },
   "outputs": [],
   "source": [
    "#Data = Data.set_index(\"taxon_id\", drop = False)\n",
    "#Data\n",
    "\n",
    "#pas une bonne idée :  perturbe tout à cause des index "
   ]
  },
  {
   "cell_type": "code",
   "execution_count": null,
   "id": "2912362e",
   "metadata": {},
   "outputs": [],
   "source": []
  },
  {
   "cell_type": "code",
   "execution_count": null,
   "id": "6b68aa69",
   "metadata": {},
   "outputs": [],
   "source": []
  },
  {
   "cell_type": "markdown",
   "id": "d084439f",
   "metadata": {
    "tags": []
   },
   "source": [
    "# Brouilllons "
   ]
  },
  {
   "cell_type": "markdown",
   "id": "d9f898a6",
   "metadata": {},
   "source": [
    "Ensuite algo optimiser le chemin dans l'arbre --> NOA'S ARC PROBLEM \n",
    "\n",
    "ETE3 package: .gettopology et .convert_to_ultrametric\n",
    "\n",
    "faire avec greedy algorithm"
   ]
  },
  {
   "cell_type": "code",
   "execution_count": null,
   "id": "62499994-1980-4b5e-9f9e-637ab3087fe0",
   "metadata": {},
   "outputs": [],
   "source": []
  },
  {
   "cell_type": "code",
   "execution_count": null,
   "id": "c22f1fac-b3be-4684-8b09-5c5cabc95f71",
   "metadata": {},
   "outputs": [],
   "source": []
  },
  {
   "cell_type": "code",
   "execution_count": 57,
   "id": "35235c61-bb18-4151-9497-d511e5638194",
   "metadata": {},
   "outputs": [
    {
     "name": "stdout",
     "output_type": "stream",
     "text": [
      "Current Python Version- 3.9.13\n"
     ]
    }
   ],
   "source": [
    "from platform import python_version\n",
    " \n",
    " \n",
    "print(\"Current Python Version-\", python_version())"
   ]
  },
  {
   "cell_type": "code",
   "execution_count": null,
   "id": "56f21eac-76ff-41eb-9947-ff86903abb32",
   "metadata": {},
   "outputs": [],
   "source": []
  }
